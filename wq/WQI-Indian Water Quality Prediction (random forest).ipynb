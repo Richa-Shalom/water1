{
 "cells": [
  {
   "cell_type": "markdown",
   "metadata": {},
   "source": [
    "## Import Packages"
   ]
  },
  {
   "cell_type": "code",
   "execution_count": 2,
   "metadata": {
    "_cell_guid": "b1076dfc-b9ad-4769-8c92-a6c4dae69d19",
    "_uuid": "8f2839f25d086af736a60e9eeb907d3b93b6e0e5"
   },
   "outputs": [],
   "source": [
    "import numpy as np \n",
    "import pandas as pd "
   ]
  },
  {
   "cell_type": "markdown",
   "metadata": {},
   "source": [
    "## Read Data "
   ]
  },
  {
   "cell_type": "code",
   "execution_count": 3,
   "metadata": {
    "_cell_guid": "79c7e3d0-c299-4dcb-8224-4455121ee9b0",
    "_kg_hide-input": true,
    "_uuid": "d629ff2d2480ee46fbb7e2d37f6b5fab8052498a"
   },
   "outputs": [
    {
     "data": {
      "text/html": [
       "<div>\n",
       "<style scoped>\n",
       "    .dataframe tbody tr th:only-of-type {\n",
       "        vertical-align: middle;\n",
       "    }\n",
       "\n",
       "    .dataframe tbody tr th {\n",
       "        vertical-align: top;\n",
       "    }\n",
       "\n",
       "    .dataframe thead th {\n",
       "        text-align: right;\n",
       "    }\n",
       "</style>\n",
       "<table border=\"1\" class=\"dataframe\">\n",
       "  <thead>\n",
       "    <tr style=\"text-align: right;\">\n",
       "      <th></th>\n",
       "      <th>STATION CODE</th>\n",
       "      <th>LOCATIONS</th>\n",
       "      <th>STATE</th>\n",
       "      <th>Temp</th>\n",
       "      <th>D.O. (mg/l)</th>\n",
       "      <th>PH</th>\n",
       "      <th>CONDUCTIVITY (µmhos/cm)</th>\n",
       "      <th>B.O.D. (mg/l)</th>\n",
       "      <th>NITRATENAN N+ NITRITENANN (mg/l)</th>\n",
       "      <th>FECAL COLIFORM (MPN/100ml)</th>\n",
       "      <th>TOTAL COLIFORM (MPN/100ml)Mean</th>\n",
       "      <th>year</th>\n",
       "    </tr>\n",
       "  </thead>\n",
       "  <tbody>\n",
       "    <tr>\n",
       "      <th>0</th>\n",
       "      <td>1393</td>\n",
       "      <td>DAMANGANGA AT D/S OF MADHUBAN, DAMAN</td>\n",
       "      <td>DAMAN &amp; DIU</td>\n",
       "      <td>30.6</td>\n",
       "      <td>6.7</td>\n",
       "      <td>7.5</td>\n",
       "      <td>203</td>\n",
       "      <td>NAN</td>\n",
       "      <td>0.1</td>\n",
       "      <td>11</td>\n",
       "      <td>27</td>\n",
       "      <td>2014</td>\n",
       "    </tr>\n",
       "    <tr>\n",
       "      <th>1</th>\n",
       "      <td>1399</td>\n",
       "      <td>ZUARI AT D/S OF PT. WHERE KUMBARJRIA CANAL JOI...</td>\n",
       "      <td>GOA</td>\n",
       "      <td>29.8</td>\n",
       "      <td>5.7</td>\n",
       "      <td>7.2</td>\n",
       "      <td>189</td>\n",
       "      <td>2</td>\n",
       "      <td>0.2</td>\n",
       "      <td>4953</td>\n",
       "      <td>8391</td>\n",
       "      <td>2014</td>\n",
       "    </tr>\n",
       "    <tr>\n",
       "      <th>2</th>\n",
       "      <td>1475</td>\n",
       "      <td>ZUARI AT PANCHAWADI</td>\n",
       "      <td>GOA</td>\n",
       "      <td>29.5</td>\n",
       "      <td>6.3</td>\n",
       "      <td>6.9</td>\n",
       "      <td>179</td>\n",
       "      <td>1.7</td>\n",
       "      <td>0.1</td>\n",
       "      <td>3243</td>\n",
       "      <td>5330</td>\n",
       "      <td>2014</td>\n",
       "    </tr>\n",
       "    <tr>\n",
       "      <th>3</th>\n",
       "      <td>3181</td>\n",
       "      <td>RIVER ZUARI AT BORIM BRIDGE</td>\n",
       "      <td>GOA</td>\n",
       "      <td>29.7</td>\n",
       "      <td>5.8</td>\n",
       "      <td>6.9</td>\n",
       "      <td>64</td>\n",
       "      <td>3.8</td>\n",
       "      <td>0.5</td>\n",
       "      <td>5382</td>\n",
       "      <td>8443</td>\n",
       "      <td>2014</td>\n",
       "    </tr>\n",
       "    <tr>\n",
       "      <th>4</th>\n",
       "      <td>3182</td>\n",
       "      <td>RIVER ZUARI AT MARCAIM JETTY</td>\n",
       "      <td>GOA</td>\n",
       "      <td>29.5</td>\n",
       "      <td>5.8</td>\n",
       "      <td>7.3</td>\n",
       "      <td>83</td>\n",
       "      <td>1.9</td>\n",
       "      <td>0.4</td>\n",
       "      <td>3428</td>\n",
       "      <td>5500</td>\n",
       "      <td>2014</td>\n",
       "    </tr>\n",
       "  </tbody>\n",
       "</table>\n",
       "</div>"
      ],
      "text/plain": [
       "  STATION CODE                                          LOCATIONS  \\\n",
       "0         1393               DAMANGANGA AT D/S OF MADHUBAN, DAMAN   \n",
       "1         1399  ZUARI AT D/S OF PT. WHERE KUMBARJRIA CANAL JOI...   \n",
       "2         1475                                ZUARI AT PANCHAWADI   \n",
       "3         3181                        RIVER ZUARI AT BORIM BRIDGE   \n",
       "4         3182                       RIVER ZUARI AT MARCAIM JETTY   \n",
       "\n",
       "         STATE  Temp D.O. (mg/l)   PH CONDUCTIVITY (µmhos/cm) B.O.D. (mg/l)  \\\n",
       "0  DAMAN & DIU  30.6         6.7  7.5                     203           NAN   \n",
       "1          GOA  29.8         5.7  7.2                     189             2   \n",
       "2          GOA  29.5         6.3  6.9                     179           1.7   \n",
       "3          GOA  29.7         5.8  6.9                      64           3.8   \n",
       "4          GOA  29.5         5.8  7.3                      83           1.9   \n",
       "\n",
       "  NITRATENAN N+ NITRITENANN (mg/l) FECAL COLIFORM (MPN/100ml)  \\\n",
       "0                              0.1                         11   \n",
       "1                              0.2                       4953   \n",
       "2                              0.1                       3243   \n",
       "3                              0.5                       5382   \n",
       "4                              0.4                       3428   \n",
       "\n",
       "  TOTAL COLIFORM (MPN/100ml)Mean  year  \n",
       "0                             27  2014  \n",
       "1                           8391  2014  \n",
       "2                           5330  2014  \n",
       "3                           8443  2014  \n",
       "4                           5500  2014  "
      ]
     },
     "execution_count": 3,
     "metadata": {},
     "output_type": "execute_result"
    }
   ],
   "source": [
    "data=pd.read_csv('water_dataX.csv',encoding=\"ISO-8859-1\")\n",
    "data.head()"
   ]
  },
  {
   "cell_type": "markdown",
   "metadata": {},
   "source": [
    "## Check Data Types "
   ]
  },
  {
   "cell_type": "code",
   "execution_count": 4,
   "metadata": {
    "_uuid": "f2fa8c8216c8a43293bac6a54ba1b268d7df72ec"
   },
   "outputs": [
    {
     "data": {
      "text/plain": [
       "STATION CODE                        object\n",
       "LOCATIONS                           object\n",
       "STATE                               object\n",
       "Temp                                object\n",
       "D.O. (mg/l)                         object\n",
       "PH                                  object\n",
       "CONDUCTIVITY (µmhos/cm)             object\n",
       "B.O.D. (mg/l)                       object\n",
       "NITRATENAN N+ NITRITENANN (mg/l)    object\n",
       "FECAL COLIFORM (MPN/100ml)          object\n",
       "TOTAL COLIFORM (MPN/100ml)Mean      object\n",
       "year                                 int64\n",
       "dtype: object"
      ]
     },
     "execution_count": 4,
     "metadata": {},
     "output_type": "execute_result"
    }
   ],
   "source": [
    "data.dtypes"
   ]
  },
  {
   "cell_type": "markdown",
   "metadata": {},
   "source": [
    "## Conversion of Data Types"
   ]
  },
  {
   "cell_type": "code",
   "execution_count": 5,
   "metadata": {
    "_uuid": "85fd6c55da7ba22c20a28000d90cb7d09c847e92"
   },
   "outputs": [
    {
     "data": {
      "text/plain": [
       "STATION CODE                         object\n",
       "LOCATIONS                            object\n",
       "STATE                                object\n",
       "Temp                                float64\n",
       "D.O. (mg/l)                         float64\n",
       "PH                                  float64\n",
       "CONDUCTIVITY (µmhos/cm)             float64\n",
       "B.O.D. (mg/l)                       float64\n",
       "NITRATENAN N+ NITRITENANN (mg/l)    float64\n",
       "FECAL COLIFORM (MPN/100ml)          float64\n",
       "TOTAL COLIFORM (MPN/100ml)Mean      float64\n",
       "year                                  int64\n",
       "dtype: object"
      ]
     },
     "execution_count": 5,
     "metadata": {},
     "output_type": "execute_result"
    }
   ],
   "source": [
    "#conversions\n",
    "data['Temp']=pd.to_numeric(data['Temp'],errors='coerce')\n",
    "data['D.O. (mg/l)']=pd.to_numeric(data['D.O. (mg/l)'],errors='coerce')\n",
    "data['PH']=pd.to_numeric(data['PH'],errors='coerce')\n",
    "data['B.O.D. (mg/l)']=pd.to_numeric(data['B.O.D. (mg/l)'],errors='coerce')\n",
    "data['CONDUCTIVITY (µmhos/cm)']=pd.to_numeric(data['CONDUCTIVITY (µmhos/cm)'],errors='coerce')\n",
    "data['NITRATENAN N+ NITRITENANN (mg/l)']=pd.to_numeric(data['NITRATENAN N+ NITRITENANN (mg/l)'],errors='coerce')\n",
    "data['FECAL COLIFORM (MPN/100ml)']=pd.to_numeric(data['FECAL COLIFORM (MPN/100ml)'],errors='coerce')\n",
    "data['TOTAL COLIFORM (MPN/100ml)Mean']=pd.to_numeric(data['TOTAL COLIFORM (MPN/100ml)Mean'],errors='coerce')\n",
    "data.dtypes"
   ]
  },
  {
   "cell_type": "markdown",
   "metadata": {},
   "source": [
    "## Drop unrequired columns and check for null values"
   ]
  },
  {
   "cell_type": "code",
   "execution_count": 6,
   "metadata": {},
   "outputs": [
    {
     "data": {
      "text/plain": [
       "Temp                                 92\n",
       "D.O. (mg/l)                          31\n",
       "PH                                    8\n",
       "CONDUCTIVITY (µmhos/cm)              25\n",
       "B.O.D. (mg/l)                        43\n",
       "NITRATENAN N+ NITRITENANN (mg/l)    225\n",
       "FECAL COLIFORM (MPN/100ml)          316\n",
       "TOTAL COLIFORM (MPN/100ml)Mean      132\n",
       "dtype: int64"
      ]
     },
     "execution_count": 6,
     "metadata": {},
     "output_type": "execute_result"
    }
   ],
   "source": [
    "data.drop(data.columns[[0,1,2,11]],axis=1,inplace=True)\n",
    "data.isnull().sum()"
   ]
  },
  {
   "cell_type": "code",
   "execution_count": 7,
   "metadata": {},
   "outputs": [
    {
     "data": {
      "text/html": [
       "<div>\n",
       "<style scoped>\n",
       "    .dataframe tbody tr th:only-of-type {\n",
       "        vertical-align: middle;\n",
       "    }\n",
       "\n",
       "    .dataframe tbody tr th {\n",
       "        vertical-align: top;\n",
       "    }\n",
       "\n",
       "    .dataframe thead th {\n",
       "        text-align: right;\n",
       "    }\n",
       "</style>\n",
       "<table border=\"1\" class=\"dataframe\">\n",
       "  <thead>\n",
       "    <tr style=\"text-align: right;\">\n",
       "      <th></th>\n",
       "      <th>Temp</th>\n",
       "      <th>D.O. (mg/l)</th>\n",
       "      <th>PH</th>\n",
       "      <th>CONDUCTIVITY (µmhos/cm)</th>\n",
       "      <th>B.O.D. (mg/l)</th>\n",
       "      <th>NITRATENAN N+ NITRITENANN (mg/l)</th>\n",
       "      <th>FECAL COLIFORM (MPN/100ml)</th>\n",
       "      <th>TOTAL COLIFORM (MPN/100ml)Mean</th>\n",
       "    </tr>\n",
       "  </thead>\n",
       "  <tbody>\n",
       "    <tr>\n",
       "      <th>0</th>\n",
       "      <td>30.6</td>\n",
       "      <td>6.7</td>\n",
       "      <td>7.5</td>\n",
       "      <td>203.0</td>\n",
       "      <td>NaN</td>\n",
       "      <td>0.1</td>\n",
       "      <td>11.0</td>\n",
       "      <td>27.0</td>\n",
       "    </tr>\n",
       "    <tr>\n",
       "      <th>1</th>\n",
       "      <td>29.8</td>\n",
       "      <td>5.7</td>\n",
       "      <td>7.2</td>\n",
       "      <td>189.0</td>\n",
       "      <td>2.0</td>\n",
       "      <td>0.2</td>\n",
       "      <td>4953.0</td>\n",
       "      <td>8391.0</td>\n",
       "    </tr>\n",
       "    <tr>\n",
       "      <th>2</th>\n",
       "      <td>29.5</td>\n",
       "      <td>6.3</td>\n",
       "      <td>6.9</td>\n",
       "      <td>179.0</td>\n",
       "      <td>1.7</td>\n",
       "      <td>0.1</td>\n",
       "      <td>3243.0</td>\n",
       "      <td>5330.0</td>\n",
       "    </tr>\n",
       "    <tr>\n",
       "      <th>3</th>\n",
       "      <td>29.7</td>\n",
       "      <td>5.8</td>\n",
       "      <td>6.9</td>\n",
       "      <td>64.0</td>\n",
       "      <td>3.8</td>\n",
       "      <td>0.5</td>\n",
       "      <td>5382.0</td>\n",
       "      <td>8443.0</td>\n",
       "    </tr>\n",
       "    <tr>\n",
       "      <th>4</th>\n",
       "      <td>29.5</td>\n",
       "      <td>5.8</td>\n",
       "      <td>7.3</td>\n",
       "      <td>83.0</td>\n",
       "      <td>1.9</td>\n",
       "      <td>0.4</td>\n",
       "      <td>3428.0</td>\n",
       "      <td>5500.0</td>\n",
       "    </tr>\n",
       "  </tbody>\n",
       "</table>\n",
       "</div>"
      ],
      "text/plain": [
       "   Temp  D.O. (mg/l)   PH  CONDUCTIVITY (µmhos/cm)  B.O.D. (mg/l)  \\\n",
       "0  30.6          6.7  7.5                    203.0            NaN   \n",
       "1  29.8          5.7  7.2                    189.0            2.0   \n",
       "2  29.5          6.3  6.9                    179.0            1.7   \n",
       "3  29.7          5.8  6.9                     64.0            3.8   \n",
       "4  29.5          5.8  7.3                     83.0            1.9   \n",
       "\n",
       "   NITRATENAN N+ NITRITENANN (mg/l)  FECAL COLIFORM (MPN/100ml)  \\\n",
       "0                               0.1                        11.0   \n",
       "1                               0.2                      4953.0   \n",
       "2                               0.1                      3243.0   \n",
       "3                               0.5                      5382.0   \n",
       "4                               0.4                      3428.0   \n",
       "\n",
       "   TOTAL COLIFORM (MPN/100ml)Mean  \n",
       "0                            27.0  \n",
       "1                          8391.0  \n",
       "2                          5330.0  \n",
       "3                          8443.0  \n",
       "4                          5500.0  "
      ]
     },
     "execution_count": 7,
     "metadata": {},
     "output_type": "execute_result"
    }
   ],
   "source": [
    "data.head()"
   ]
  },
  {
   "cell_type": "markdown",
   "metadata": {},
   "source": [
    "## Fill the missing data"
   ]
  },
  {
   "cell_type": "code",
   "execution_count": 8,
   "metadata": {},
   "outputs": [],
   "source": [
    "for i in data.columns:\n",
    "    data[i]=data[i].fillna(value=data[i].mean())"
   ]
  },
  {
   "cell_type": "code",
   "execution_count": 9,
   "metadata": {},
   "outputs": [
    {
     "data": {
      "text/plain": [
       "Temp                                0\n",
       "D.O. (mg/l)                         0\n",
       "PH                                  0\n",
       "CONDUCTIVITY (µmhos/cm)             0\n",
       "B.O.D. (mg/l)                       0\n",
       "NITRATENAN N+ NITRITENANN (mg/l)    0\n",
       "FECAL COLIFORM (MPN/100ml)          0\n",
       "TOTAL COLIFORM (MPN/100ml)Mean      0\n",
       "dtype: int64"
      ]
     },
     "execution_count": 9,
     "metadata": {},
     "output_type": "execute_result"
    }
   ],
   "source": [
    "data.isnull().sum()"
   ]
  },
  {
   "cell_type": "markdown",
   "metadata": {},
   "source": [
    "## Initializations of Values(Cloning)"
   ]
  },
  {
   "cell_type": "code",
   "execution_count": 10,
   "metadata": {
    "_uuid": "c528533407224af3b7dcbc5d395260281aef2777"
   },
   "outputs": [
    {
     "data": {
      "text/plain": [
       "dtype('float64')"
      ]
     },
     "execution_count": 10,
     "metadata": {},
     "output_type": "execute_result"
    }
   ],
   "source": [
    "#initialization\n",
    "start=2\n",
    "end=1991\n",
    "do= data.iloc [start:end ,1].astype(np.float64)\n",
    "value=0\n",
    "ph = data.iloc[ start:end,2]  \n",
    "co = data.iloc [start:end ,3].astype(np.float64)\n",
    "tc=data.iloc [2:end ,7].astype(np.float64)\n",
    "bod = data.iloc [start:end ,4].astype(np.float64)\n",
    "na= data.iloc [start:end ,5].astype(np.float64)\n",
    "na.dtype"
   ]
  },
  {
   "cell_type": "code",
   "execution_count": 11,
   "metadata": {
    "_uuid": "f6fea6a3aaa01927b6b51da1b8362aa9db158ecc"
   },
   "outputs": [
    {
     "data": {
      "text/html": [
       "<div>\n",
       "<style scoped>\n",
       "    .dataframe tbody tr th:only-of-type {\n",
       "        vertical-align: middle;\n",
       "    }\n",
       "\n",
       "    .dataframe tbody tr th {\n",
       "        vertical-align: top;\n",
       "    }\n",
       "\n",
       "    .dataframe thead th {\n",
       "        text-align: right;\n",
       "    }\n",
       "</style>\n",
       "<table border=\"1\" class=\"dataframe\">\n",
       "  <thead>\n",
       "    <tr style=\"text-align: right;\">\n",
       "      <th></th>\n",
       "      <th>Temp</th>\n",
       "      <th>D.O. (mg/l)</th>\n",
       "      <th>PH</th>\n",
       "      <th>CONDUCTIVITY (µmhos/cm)</th>\n",
       "      <th>B.O.D. (mg/l)</th>\n",
       "      <th>NITRATENAN N+ NITRITENANN (mg/l)</th>\n",
       "      <th>FECAL COLIFORM (MPN/100ml)</th>\n",
       "      <th>TOTAL COLIFORM (MPN/100ml)Mean</th>\n",
       "    </tr>\n",
       "  </thead>\n",
       "  <tbody>\n",
       "    <tr>\n",
       "      <th>0</th>\n",
       "      <td>30.6</td>\n",
       "      <td>6.7</td>\n",
       "      <td>7.5</td>\n",
       "      <td>203.0</td>\n",
       "      <td>6.940049</td>\n",
       "      <td>0.1</td>\n",
       "      <td>11.0</td>\n",
       "      <td>27.0</td>\n",
       "    </tr>\n",
       "    <tr>\n",
       "      <th>1</th>\n",
       "      <td>29.8</td>\n",
       "      <td>5.7</td>\n",
       "      <td>7.2</td>\n",
       "      <td>189.0</td>\n",
       "      <td>2.000000</td>\n",
       "      <td>0.2</td>\n",
       "      <td>4953.0</td>\n",
       "      <td>8391.0</td>\n",
       "    </tr>\n",
       "    <tr>\n",
       "      <th>2</th>\n",
       "      <td>29.5</td>\n",
       "      <td>6.3</td>\n",
       "      <td>6.9</td>\n",
       "      <td>179.0</td>\n",
       "      <td>1.700000</td>\n",
       "      <td>0.1</td>\n",
       "      <td>3243.0</td>\n",
       "      <td>5330.0</td>\n",
       "    </tr>\n",
       "    <tr>\n",
       "      <th>3</th>\n",
       "      <td>29.7</td>\n",
       "      <td>5.8</td>\n",
       "      <td>6.9</td>\n",
       "      <td>64.0</td>\n",
       "      <td>3.800000</td>\n",
       "      <td>0.5</td>\n",
       "      <td>5382.0</td>\n",
       "      <td>8443.0</td>\n",
       "    </tr>\n",
       "    <tr>\n",
       "      <th>4</th>\n",
       "      <td>29.5</td>\n",
       "      <td>5.8</td>\n",
       "      <td>7.3</td>\n",
       "      <td>83.0</td>\n",
       "      <td>1.900000</td>\n",
       "      <td>0.4</td>\n",
       "      <td>3428.0</td>\n",
       "      <td>5500.0</td>\n",
       "    </tr>\n",
       "  </tbody>\n",
       "</table>\n",
       "</div>"
      ],
      "text/plain": [
       "   Temp  D.O. (mg/l)   PH  CONDUCTIVITY (µmhos/cm)  B.O.D. (mg/l)  \\\n",
       "0  30.6          6.7  7.5                    203.0       6.940049   \n",
       "1  29.8          5.7  7.2                    189.0       2.000000   \n",
       "2  29.5          6.3  6.9                    179.0       1.700000   \n",
       "3  29.7          5.8  6.9                     64.0       3.800000   \n",
       "4  29.5          5.8  7.3                     83.0       1.900000   \n",
       "\n",
       "   NITRATENAN N+ NITRITENANN (mg/l)  FECAL COLIFORM (MPN/100ml)  \\\n",
       "0                               0.1                        11.0   \n",
       "1                               0.2                      4953.0   \n",
       "2                               0.1                      3243.0   \n",
       "3                               0.5                      5382.0   \n",
       "4                               0.4                      3428.0   \n",
       "\n",
       "   TOTAL COLIFORM (MPN/100ml)Mean  \n",
       "0                            27.0  \n",
       "1                          8391.0  \n",
       "2                          5330.0  \n",
       "3                          8443.0  \n",
       "4                          5500.0  "
      ]
     },
     "execution_count": 11,
     "metadata": {},
     "output_type": "execute_result"
    }
   ],
   "source": [
    "data.head()"
   ]
  },
  {
   "cell_type": "code",
   "execution_count": 12,
   "metadata": {
    "_uuid": "e13694edb7e69821a3a1bc790644585aabd6f3cf"
   },
   "outputs": [],
   "source": [
    "data=pd.concat([do,ph,co,bod,na,tc],axis=1)\n",
    "data. columns = ['do','ph','co','bod','na','tc']"
   ]
  },
  {
   "cell_type": "code",
   "execution_count": 13,
   "metadata": {},
   "outputs": [
    {
     "data": {
      "text/html": [
       "<div>\n",
       "<style scoped>\n",
       "    .dataframe tbody tr th:only-of-type {\n",
       "        vertical-align: middle;\n",
       "    }\n",
       "\n",
       "    .dataframe tbody tr th {\n",
       "        vertical-align: top;\n",
       "    }\n",
       "\n",
       "    .dataframe thead th {\n",
       "        text-align: right;\n",
       "    }\n",
       "</style>\n",
       "<table border=\"1\" class=\"dataframe\">\n",
       "  <thead>\n",
       "    <tr style=\"text-align: right;\">\n",
       "      <th></th>\n",
       "      <th>do</th>\n",
       "      <th>ph</th>\n",
       "      <th>co</th>\n",
       "      <th>bod</th>\n",
       "      <th>na</th>\n",
       "      <th>tc</th>\n",
       "    </tr>\n",
       "  </thead>\n",
       "  <tbody>\n",
       "    <tr>\n",
       "      <th>2</th>\n",
       "      <td>6.3</td>\n",
       "      <td>6.9</td>\n",
       "      <td>179.0</td>\n",
       "      <td>1.7</td>\n",
       "      <td>0.1</td>\n",
       "      <td>5330.0</td>\n",
       "    </tr>\n",
       "    <tr>\n",
       "      <th>3</th>\n",
       "      <td>5.8</td>\n",
       "      <td>6.9</td>\n",
       "      <td>64.0</td>\n",
       "      <td>3.8</td>\n",
       "      <td>0.5</td>\n",
       "      <td>8443.0</td>\n",
       "    </tr>\n",
       "    <tr>\n",
       "      <th>4</th>\n",
       "      <td>5.8</td>\n",
       "      <td>7.3</td>\n",
       "      <td>83.0</td>\n",
       "      <td>1.9</td>\n",
       "      <td>0.4</td>\n",
       "      <td>5500.0</td>\n",
       "    </tr>\n",
       "    <tr>\n",
       "      <th>5</th>\n",
       "      <td>5.5</td>\n",
       "      <td>7.4</td>\n",
       "      <td>81.0</td>\n",
       "      <td>1.5</td>\n",
       "      <td>0.1</td>\n",
       "      <td>4049.0</td>\n",
       "    </tr>\n",
       "    <tr>\n",
       "      <th>6</th>\n",
       "      <td>6.1</td>\n",
       "      <td>6.7</td>\n",
       "      <td>308.0</td>\n",
       "      <td>1.4</td>\n",
       "      <td>0.3</td>\n",
       "      <td>5672.0</td>\n",
       "    </tr>\n",
       "  </tbody>\n",
       "</table>\n",
       "</div>"
      ],
      "text/plain": [
       "    do   ph     co  bod   na      tc\n",
       "2  6.3  6.9  179.0  1.7  0.1  5330.0\n",
       "3  5.8  6.9   64.0  3.8  0.5  8443.0\n",
       "4  5.8  7.3   83.0  1.9  0.4  5500.0\n",
       "5  5.5  7.4   81.0  1.5  0.1  4049.0\n",
       "6  6.1  6.7  308.0  1.4  0.3  5672.0"
      ]
     },
     "execution_count": 13,
     "metadata": {},
     "output_type": "execute_result"
    }
   ],
   "source": [
    "data.head()"
   ]
  },
  {
   "cell_type": "code",
   "execution_count": 14,
   "metadata": {
    "_uuid": "c2821fe55fdcf56135b5d6a20d5382fc9d006411"
   },
   "outputs": [],
   "source": [
    "#calulation of Ph\n",
    "data['npH']=data.ph.apply(lambda x: (100 if (8.5>=x>=7)  \n",
    "                                 else(80 if  (8.6>=x>=8.5) or (6.9>=x>=6.8) \n",
    "                                      else(60 if (8.8>=x>=8.6) or (6.8>=x>=6.7) \n",
    "                                          else(40 if (9>=x>=8.8) or (6.7>=x>=6.5)\n",
    "                                              else 0)))))"
   ]
  },
  {
   "cell_type": "code",
   "execution_count": 15,
   "metadata": {
    "_uuid": "522c5937fb8199e5ba9600011856b7abe7c41dfd"
   },
   "outputs": [],
   "source": [
    "#calculation of dissolved oxygen\n",
    "data['ndo']=data.do.apply(lambda x:(100 if (x>=6)  \n",
    "                                 else(80 if  (6>=x>=5.1) \n",
    "                                      else(60 if (5>=x>=4.1)\n",
    "                                          else(40 if (4>=x>=3) \n",
    "                                              else 0)))))"
   ]
  },
  {
   "cell_type": "code",
   "execution_count": 16,
   "metadata": {
    "_uuid": "0e443b323f7ea397bb3e63a8eb1b0f243c247c82"
   },
   "outputs": [],
   "source": [
    "#calculation of total coliform\n",
    "data['nco']=data.tc.apply(lambda x:(100 if (5>=x>=0)  \n",
    "                                 else(80 if  (50>=x>=5) \n",
    "                                      else(60 if (500>=x>=50)\n",
    "                                          else(40 if (10000>=x>=500) \n",
    "                                              else 0)))))"
   ]
  },
  {
   "cell_type": "code",
   "execution_count": 17,
   "metadata": {
    "_uuid": "f421697d9e925a02e8d8c919546ccddc306d6619"
   },
   "outputs": [],
   "source": [
    "#calc of B.D.O\n",
    "data['nbdo']=data.bod.apply(lambda x:(100 if (3>=x>=0)  \n",
    "                                 else(80 if  (6>=x>=3) \n",
    "                                      else(60 if (80>=x>=6)\n",
    "                                          else(40 if (125>=x>=80) \n",
    "                                              else 0)))))"
   ]
  },
  {
   "cell_type": "code",
   "execution_count": 18,
   "metadata": {
    "_uuid": "432790c8c67937138427c395c4706da173911e16"
   },
   "outputs": [],
   "source": [
    "#calculation of electrical conductivity\n",
    "data['nec']=data.co.apply(lambda x:(100 if (75>=x>=0)  \n",
    "                                 else(80 if  (150>=x>=75) \n",
    "                                      else(60 if (225>=x>=150)\n",
    "                                          else(40 if (300>=x>=225) \n",
    "                                              else 0)))))\n"
   ]
  },
  {
   "cell_type": "code",
   "execution_count": 19,
   "metadata": {
    "_uuid": "96bb369fe0bfe6ed046e93f1c33855125b394ab4"
   },
   "outputs": [
    {
     "data": {
      "text/plain": [
       "do      float64\n",
       "ph      float64\n",
       "co      float64\n",
       "bod     float64\n",
       "na      float64\n",
       "tc      float64\n",
       "npH       int64\n",
       "ndo       int64\n",
       "nco       int64\n",
       "nbdo      int64\n",
       "nec       int64\n",
       "nna       int64\n",
       "dtype: object"
      ]
     },
     "execution_count": 19,
     "metadata": {},
     "output_type": "execute_result"
    }
   ],
   "source": [
    "#Calulation of nitrate\n",
    "data['nna']=data.na.apply(lambda x:(100 if (20>=x>=0)  \n",
    "                                 else(80 if  (50>=x>=20) \n",
    "                                      else(60 if (100>=x>=50)\n",
    "                                          else(40 if (200>=x>=100) \n",
    "                                              else 0)))))\n",
    "\n",
    "data.head()\n",
    "data.dtypes"
   ]
  },
  {
   "cell_type": "code",
   "execution_count": 20,
   "metadata": {
    "_uuid": "0c1462f89a3526c780053de8f891ac806efcb51d"
   },
   "outputs": [
    {
     "data": {
      "text/html": [
       "<div>\n",
       "<style scoped>\n",
       "    .dataframe tbody tr th:only-of-type {\n",
       "        vertical-align: middle;\n",
       "    }\n",
       "\n",
       "    .dataframe tbody tr th {\n",
       "        vertical-align: top;\n",
       "    }\n",
       "\n",
       "    .dataframe thead th {\n",
       "        text-align: right;\n",
       "    }\n",
       "</style>\n",
       "<table border=\"1\" class=\"dataframe\">\n",
       "  <thead>\n",
       "    <tr style=\"text-align: right;\">\n",
       "      <th></th>\n",
       "      <th>do</th>\n",
       "      <th>ph</th>\n",
       "      <th>co</th>\n",
       "      <th>bod</th>\n",
       "      <th>na</th>\n",
       "      <th>tc</th>\n",
       "      <th>npH</th>\n",
       "      <th>ndo</th>\n",
       "      <th>nco</th>\n",
       "      <th>nbdo</th>\n",
       "      <th>nec</th>\n",
       "      <th>nna</th>\n",
       "      <th>wph</th>\n",
       "      <th>wdo</th>\n",
       "      <th>wbdo</th>\n",
       "      <th>wec</th>\n",
       "      <th>wna</th>\n",
       "      <th>wco</th>\n",
       "      <th>wqi</th>\n",
       "    </tr>\n",
       "  </thead>\n",
       "  <tbody>\n",
       "    <tr>\n",
       "      <th>2</th>\n",
       "      <td>6.3</td>\n",
       "      <td>6.9</td>\n",
       "      <td>179.0</td>\n",
       "      <td>1.7</td>\n",
       "      <td>0.1</td>\n",
       "      <td>5330.0</td>\n",
       "      <td>80</td>\n",
       "      <td>100</td>\n",
       "      <td>40</td>\n",
       "      <td>100</td>\n",
       "      <td>60</td>\n",
       "      <td>100</td>\n",
       "      <td>13.2</td>\n",
       "      <td>28.10</td>\n",
       "      <td>23.40</td>\n",
       "      <td>0.54</td>\n",
       "      <td>2.8</td>\n",
       "      <td>11.24</td>\n",
       "      <td>79.28</td>\n",
       "    </tr>\n",
       "    <tr>\n",
       "      <th>3</th>\n",
       "      <td>5.8</td>\n",
       "      <td>6.9</td>\n",
       "      <td>64.0</td>\n",
       "      <td>3.8</td>\n",
       "      <td>0.5</td>\n",
       "      <td>8443.0</td>\n",
       "      <td>80</td>\n",
       "      <td>80</td>\n",
       "      <td>40</td>\n",
       "      <td>80</td>\n",
       "      <td>100</td>\n",
       "      <td>100</td>\n",
       "      <td>13.2</td>\n",
       "      <td>22.48</td>\n",
       "      <td>18.72</td>\n",
       "      <td>0.90</td>\n",
       "      <td>2.8</td>\n",
       "      <td>11.24</td>\n",
       "      <td>69.34</td>\n",
       "    </tr>\n",
       "    <tr>\n",
       "      <th>4</th>\n",
       "      <td>5.8</td>\n",
       "      <td>7.3</td>\n",
       "      <td>83.0</td>\n",
       "      <td>1.9</td>\n",
       "      <td>0.4</td>\n",
       "      <td>5500.0</td>\n",
       "      <td>100</td>\n",
       "      <td>80</td>\n",
       "      <td>40</td>\n",
       "      <td>100</td>\n",
       "      <td>80</td>\n",
       "      <td>100</td>\n",
       "      <td>16.5</td>\n",
       "      <td>22.48</td>\n",
       "      <td>23.40</td>\n",
       "      <td>0.72</td>\n",
       "      <td>2.8</td>\n",
       "      <td>11.24</td>\n",
       "      <td>77.14</td>\n",
       "    </tr>\n",
       "    <tr>\n",
       "      <th>5</th>\n",
       "      <td>5.5</td>\n",
       "      <td>7.4</td>\n",
       "      <td>81.0</td>\n",
       "      <td>1.5</td>\n",
       "      <td>0.1</td>\n",
       "      <td>4049.0</td>\n",
       "      <td>100</td>\n",
       "      <td>80</td>\n",
       "      <td>40</td>\n",
       "      <td>100</td>\n",
       "      <td>80</td>\n",
       "      <td>100</td>\n",
       "      <td>16.5</td>\n",
       "      <td>22.48</td>\n",
       "      <td>23.40</td>\n",
       "      <td>0.72</td>\n",
       "      <td>2.8</td>\n",
       "      <td>11.24</td>\n",
       "      <td>77.14</td>\n",
       "    </tr>\n",
       "    <tr>\n",
       "      <th>6</th>\n",
       "      <td>6.1</td>\n",
       "      <td>6.7</td>\n",
       "      <td>308.0</td>\n",
       "      <td>1.4</td>\n",
       "      <td>0.3</td>\n",
       "      <td>5672.0</td>\n",
       "      <td>60</td>\n",
       "      <td>100</td>\n",
       "      <td>40</td>\n",
       "      <td>100</td>\n",
       "      <td>0</td>\n",
       "      <td>100</td>\n",
       "      <td>9.9</td>\n",
       "      <td>28.10</td>\n",
       "      <td>23.40</td>\n",
       "      <td>0.00</td>\n",
       "      <td>2.8</td>\n",
       "      <td>11.24</td>\n",
       "      <td>75.44</td>\n",
       "    </tr>\n",
       "  </tbody>\n",
       "</table>\n",
       "</div>"
      ],
      "text/plain": [
       "    do   ph     co  bod   na      tc  npH  ndo  nco  nbdo  nec  nna   wph  \\\n",
       "2  6.3  6.9  179.0  1.7  0.1  5330.0   80  100   40   100   60  100  13.2   \n",
       "3  5.8  6.9   64.0  3.8  0.5  8443.0   80   80   40    80  100  100  13.2   \n",
       "4  5.8  7.3   83.0  1.9  0.4  5500.0  100   80   40   100   80  100  16.5   \n",
       "5  5.5  7.4   81.0  1.5  0.1  4049.0  100   80   40   100   80  100  16.5   \n",
       "6  6.1  6.7  308.0  1.4  0.3  5672.0   60  100   40   100    0  100   9.9   \n",
       "\n",
       "     wdo   wbdo   wec  wna    wco    wqi  \n",
       "2  28.10  23.40  0.54  2.8  11.24  79.28  \n",
       "3  22.48  18.72  0.90  2.8  11.24  69.34  \n",
       "4  22.48  23.40  0.72  2.8  11.24  77.14  \n",
       "5  22.48  23.40  0.72  2.8  11.24  77.14  \n",
       "6  28.10  23.40  0.00  2.8  11.24  75.44  "
      ]
     },
     "execution_count": 20,
     "metadata": {},
     "output_type": "execute_result"
    }
   ],
   "source": [
    "data['wph']=data.npH * 0.165\n",
    "data['wdo']=data.ndo * 0.281\n",
    "data['wbdo']=data.nbdo * 0.234\n",
    "data['wec']=data.nec* 0.009\n",
    "data['wna']=data.nna * 0.028\n",
    "data['wco']=data.nco * 0.281\n",
    "data['wqi']=data.wph+data.wdo+data.wbdo+data.wec+data.wna+data.wco\n",
    "data.head()"
   ]
  },
  {
   "cell_type": "code",
   "execution_count": 21,
   "metadata": {
    "_uuid": "1d93ce1da4d8a054073820ae573e1735fdbef19d"
   },
   "outputs": [],
   "source": [
    "#calculation overall wqi for each year\n",
    "#ag=data.groupby('year')['wqi'].mean()"
   ]
  },
  {
   "cell_type": "code",
   "execution_count": 22,
   "metadata": {},
   "outputs": [
    {
     "data": {
      "text/plain": [
       "do      0\n",
       "ph      0\n",
       "co      0\n",
       "bod     0\n",
       "na      0\n",
       "tc      0\n",
       "npH     0\n",
       "ndo     0\n",
       "nco     0\n",
       "nbdo    0\n",
       "nec     0\n",
       "nna     0\n",
       "wph     0\n",
       "wdo     0\n",
       "wbdo    0\n",
       "wec     0\n",
       "wna     0\n",
       "wco     0\n",
       "wqi     0\n",
       "dtype: int64"
      ]
     },
     "execution_count": 22,
     "metadata": {},
     "output_type": "execute_result"
    }
   ],
   "source": [
    "data.isnull().sum()"
   ]
  },
  {
   "cell_type": "code",
   "execution_count": 23,
   "metadata": {},
   "outputs": [],
   "source": [
    "import seaborn as sns"
   ]
  },
  {
   "cell_type": "code",
   "execution_count": 24,
   "metadata": {},
   "outputs": [
    {
     "data": {
      "text/plain": [
       "<AxesSubplot:>"
      ]
     },
     "execution_count": 24,
     "metadata": {},
     "output_type": "execute_result"
    },
    {
     "data": {
      "image/png": "[encoded data removed]",
      "text/plain": [
       "<Figure size 432x288 with 2 Axes>"
      ]
     },
     "metadata": {
      "needs_background": "light"
     },
     "output_type": "display_data"
    }
   ],
   "source": [
    "sns.heatmap(data.corr())"
   ]
  },
  {
   "cell_type": "code",
   "execution_count": 25,
   "metadata": {},
   "outputs": [
    {
     "name": "stderr",
     "output_type": "stream",
     "text": [
      "C:\\Users\\Rishika Sharon\\anaconda3\\lib\\site-packages\\seaborn\\distributions.py:2557: FutureWarning: `distplot` is a deprecated function and will be removed in a future version. Please adapt your code to use either `displot` (a figure-level function with similar flexibility) or `histplot` (an axes-level function for histograms).\n",
      "  warnings.warn(msg, FutureWarning)\n"
     ]
    },
    {
     "data": {
      "text/plain": [
       "<AxesSubplot:xlabel='wqi', ylabel='Density'>"
      ]
     },
     "execution_count": 25,
     "metadata": {},
     "output_type": "execute_result"
    },
    {
     "data": {
      "image/png": "[encoded data removed]",
      "text/plain": [
       "<Figure size 432x288 with 1 Axes>"
      ]
     },
     "metadata": {
      "needs_background": "light"
     },
     "output_type": "display_data"
    }
   ],
   "source": [
    "sns.distplot(data['wqi'],bins=25,kde=True)"
   ]
  },
  {
   "cell_type": "code",
   "execution_count": 26,
   "metadata": {},
   "outputs": [
    {
     "data": {
      "text/plain": [
       "<seaborn.axisgrid.JointGrid at 0x13b8c406a30>"
      ]
     },
     "execution_count": 26,
     "metadata": {},
     "output_type": "execute_result"
    },
    {
     "data": {
      "image/png": "[encoded data removed]",
      "text/plain": [
       "<Figure size 432x432 with 3 Axes>"
      ]
     },
     "metadata": {
      "needs_background": "light"
     },
     "output_type": "display_data"
    }
   ],
   "source": [
    "sns.jointplot(x='do',y='wqi',data=data,kind='scatter')"
   ]
  },
  {
   "cell_type": "code",
   "execution_count": 27,
   "metadata": {},
   "outputs": [
    {
     "data": {
      "text/plain": [
       "<AxesSubplot:>"
      ]
     },
     "execution_count": 27,
     "metadata": {},
     "output_type": "execute_result"
    },
    {
     "data": {
      "image/png": "[encoded data removed]",
      "text/plain": [
       "<Figure size 432x288 with 2 Axes>"
      ]
     },
     "metadata": {
      "needs_background": "light"
     },
     "output_type": "display_data"
    }
   ],
   "source": [
    "sns.heatmap(data.corr(),cmap='coolwarm')"
   ]
  },
  {
   "cell_type": "code",
   "execution_count": 29,
   "metadata": {},
   "outputs": [
    {
     "data": {
      "text/plain": [
       "Text(0, 0.5, 'Frequency')"
      ]
     },
     "execution_count": 29,
     "metadata": {},
     "output_type": "execute_result"
    },
    {
     "data": {
      "image/png": "[encoded data removed]",
      "text/plain": [
       "<Figure size 432x288 with 1 Axes>"
      ]
     },
     "metadata": {
      "needs_background": "light"
     },
     "output_type": "display_data"
    }
   ],
   "source": [
    "import matplotlib.pyplot as plt\n",
    "fig, ax = plt.subplots()\n",
    "# plot histogram\n",
    "ax.hist(data['wqi'])\n",
    "# set title and labels\n",
    "ax.set_title('QUALITY INDEX')\n",
    "ax.set_xlabel('WQI')\n",
    "ax.set_ylabel('Frequency')"
   ]
  },
  {
   "cell_type": "code",
   "execution_count": 30,
   "metadata": {},
   "outputs": [
    {
     "data": {
      "text/plain": [
       "{'whiskers': [<matplotlib.lines.Line2D at 0x13b8c7df6d0>,\n",
       "  <matplotlib.lines.Line2D at 0x13b8c7dfa30>],\n",
       " 'caps': [<matplotlib.lines.Line2D at 0x13b8c7dfd90>,\n",
       "  <matplotlib.lines.Line2D at 0x13b8c7ec130>],\n",
       " 'boxes': [<matplotlib.lines.Line2D at 0x13b8c7df370>],\n",
       " 'medians': [<matplotlib.lines.Line2D at 0x13b8c7ec490>],\n",
       " 'fliers': [<matplotlib.lines.Line2D at 0x13b8c7ec7f0>],\n",
       " 'means': []}"
      ]
     },
     "execution_count": 30,
     "metadata": {},
     "output_type": "execute_result"
    },
    {
     "data": {
      "image/png": "[encoded data removed]",
      "text/plain": [
       "<Figure size 432x288 with 1 Axes>"
      ]
     },
     "metadata": {
      "needs_background": "light"
     },
     "output_type": "display_data"
    }
   ],
   "source": [
    "plt.boxplot(data['wqi'])"
   ]
  },
  {
   "cell_type": "code",
   "execution_count": 31,
   "metadata": {},
   "outputs": [
    {
     "data": {
      "image/png": "[encoded data removed]",
      "text/plain": [
       "<Figure size 432x288 with 1 Axes>"
      ]
     },
     "metadata": {
      "needs_background": "light"
     },
     "output_type": "display_data"
    }
   ],
   "source": [
    "plt.scatter(data['wqi'],data['do']) \n",
    "plt.show() "
   ]
  },
  {
   "cell_type": "code",
   "execution_count": 32,
   "metadata": {
    "_uuid": "3c6a6c48311870df8217720ca59c569e105c7606"
   },
   "outputs": [],
   "source": [
    "import matplotlib.pyplot as plt"
   ]
  },
  {
   "cell_type": "code",
   "execution_count": 33,
   "metadata": {
    "_uuid": "cc19551971d8211b993ea3ab3fd2f22e5cff2b0d"
   },
   "outputs": [
    {
     "data": {
      "text/plain": [
       "<matplotlib.collections.PathCollection at 0x13b8c898d60>"
      ]
     },
     "execution_count": 33,
     "metadata": {},
     "output_type": "execute_result"
    },
    {
     "data": {
      "image/png": "[encoded data removed]",
      "text/plain": [
       "<Figure size 432x288 with 1 Axes>"
      ]
     },
     "metadata": {
      "needs_background": "light"
     },
     "output_type": "display_data"
    }
   ],
   "source": [
    "plt.scatter(data['wqi'],data['wdo'],color='red')"
   ]
  },
  {
   "cell_type": "code",
   "execution_count": 34,
   "metadata": {
    "scrolled": false
   },
   "outputs": [
    {
     "data": {
      "text/html": [
       "<div>\n",
       "<style scoped>\n",
       "    .dataframe tbody tr th:only-of-type {\n",
       "        vertical-align: middle;\n",
       "    }\n",
       "\n",
       "    .dataframe tbody tr th {\n",
       "        vertical-align: top;\n",
       "    }\n",
       "\n",
       "    .dataframe thead th {\n",
       "        text-align: right;\n",
       "    }\n",
       "</style>\n",
       "<table border=\"1\" class=\"dataframe\">\n",
       "  <thead>\n",
       "    <tr style=\"text-align: right;\">\n",
       "      <th></th>\n",
       "      <th>do</th>\n",
       "      <th>ph</th>\n",
       "      <th>co</th>\n",
       "      <th>bod</th>\n",
       "      <th>na</th>\n",
       "      <th>tc</th>\n",
       "      <th>npH</th>\n",
       "      <th>ndo</th>\n",
       "      <th>nco</th>\n",
       "      <th>nbdo</th>\n",
       "      <th>nec</th>\n",
       "      <th>nna</th>\n",
       "      <th>wph</th>\n",
       "      <th>wdo</th>\n",
       "      <th>wbdo</th>\n",
       "      <th>wec</th>\n",
       "      <th>wna</th>\n",
       "      <th>wco</th>\n",
       "      <th>wqi</th>\n",
       "    </tr>\n",
       "  </thead>\n",
       "  <tbody>\n",
       "    <tr>\n",
       "      <th>do</th>\n",
       "      <td>1.000000</td>\n",
       "      <td>0.034819</td>\n",
       "      <td>-0.165748</td>\n",
       "      <td>-0.248498</td>\n",
       "      <td>-0.190878</td>\n",
       "      <td>-0.142970</td>\n",
       "      <td>-0.049592</td>\n",
       "      <td>0.890867</td>\n",
       "      <td>0.323838</td>\n",
       "      <td>0.417970</td>\n",
       "      <td>0.372918</td>\n",
       "      <td>0.055922</td>\n",
       "      <td>-0.049592</td>\n",
       "      <td>0.890867</td>\n",
       "      <td>0.417970</td>\n",
       "      <td>0.372918</td>\n",
       "      <td>0.055922</td>\n",
       "      <td>0.323838</td>\n",
       "      <td>0.678835</td>\n",
       "    </tr>\n",
       "    <tr>\n",
       "      <th>ph</th>\n",
       "      <td>0.034819</td>\n",
       "      <td>1.000000</td>\n",
       "      <td>-0.017860</td>\n",
       "      <td>0.041400</td>\n",
       "      <td>-0.006630</td>\n",
       "      <td>-0.002126</td>\n",
       "      <td>-0.133475</td>\n",
       "      <td>0.017904</td>\n",
       "      <td>-0.017073</td>\n",
       "      <td>-0.019346</td>\n",
       "      <td>0.067391</td>\n",
       "      <td>0.002730</td>\n",
       "      <td>-0.133475</td>\n",
       "      <td>0.017904</td>\n",
       "      <td>-0.019346</td>\n",
       "      <td>0.067391</td>\n",
       "      <td>0.002730</td>\n",
       "      <td>-0.017073</td>\n",
       "      <td>-0.059446</td>\n",
       "    </tr>\n",
       "    <tr>\n",
       "      <th>co</th>\n",
       "      <td>-0.165748</td>\n",
       "      <td>-0.017860</td>\n",
       "      <td>1.000000</td>\n",
       "      <td>0.101524</td>\n",
       "      <td>0.056563</td>\n",
       "      <td>0.003404</td>\n",
       "      <td>0.113991</td>\n",
       "      <td>-0.132189</td>\n",
       "      <td>-0.067123</td>\n",
       "      <td>-0.159589</td>\n",
       "      <td>-0.361571</td>\n",
       "      <td>-0.051449</td>\n",
       "      <td>0.113991</td>\n",
       "      <td>-0.132189</td>\n",
       "      <td>-0.159589</td>\n",
       "      <td>-0.361571</td>\n",
       "      <td>-0.051449</td>\n",
       "      <td>-0.067123</td>\n",
       "      <td>-0.104824</td>\n",
       "    </tr>\n",
       "    <tr>\n",
       "      <th>bod</th>\n",
       "      <td>-0.248498</td>\n",
       "      <td>0.041400</td>\n",
       "      <td>0.101524</td>\n",
       "      <td>1.000000</td>\n",
       "      <td>0.126051</td>\n",
       "      <td>0.164391</td>\n",
       "      <td>0.029930</td>\n",
       "      <td>-0.247562</td>\n",
       "      <td>-0.135078</td>\n",
       "      <td>-0.587243</td>\n",
       "      <td>-0.178129</td>\n",
       "      <td>-0.015633</td>\n",
       "      <td>0.029930</td>\n",
       "      <td>-0.247562</td>\n",
       "      <td>-0.587243</td>\n",
       "      <td>-0.178129</td>\n",
       "      <td>-0.015633</td>\n",
       "      <td>-0.135078</td>\n",
       "      <td>-0.349364</td>\n",
       "    </tr>\n",
       "    <tr>\n",
       "      <th>na</th>\n",
       "      <td>-0.190878</td>\n",
       "      <td>-0.006630</td>\n",
       "      <td>0.056563</td>\n",
       "      <td>0.126051</td>\n",
       "      <td>1.000000</td>\n",
       "      <td>-0.000897</td>\n",
       "      <td>0.108448</td>\n",
       "      <td>-0.206099</td>\n",
       "      <td>-0.230503</td>\n",
       "      <td>-0.303879</td>\n",
       "      <td>-0.193567</td>\n",
       "      <td>-0.726827</td>\n",
       "      <td>0.108448</td>\n",
       "      <td>-0.206099</td>\n",
       "      <td>-0.303879</td>\n",
       "      <td>-0.193567</td>\n",
       "      <td>-0.726827</td>\n",
       "      <td>-0.230503</td>\n",
       "      <td>-0.264952</td>\n",
       "    </tr>\n",
       "    <tr>\n",
       "      <th>tc</th>\n",
       "      <td>-0.142970</td>\n",
       "      <td>-0.002126</td>\n",
       "      <td>0.003404</td>\n",
       "      <td>0.164391</td>\n",
       "      <td>-0.000897</td>\n",
       "      <td>1.000000</td>\n",
       "      <td>0.020617</td>\n",
       "      <td>-0.137880</td>\n",
       "      <td>-0.071770</td>\n",
       "      <td>-0.142592</td>\n",
       "      <td>-0.044908</td>\n",
       "      <td>0.000602</td>\n",
       "      <td>0.020617</td>\n",
       "      <td>-0.137880</td>\n",
       "      <td>-0.142592</td>\n",
       "      <td>-0.044908</td>\n",
       "      <td>0.000602</td>\n",
       "      <td>-0.071770</td>\n",
       "      <td>-0.133946</td>\n",
       "    </tr>\n",
       "    <tr>\n",
       "      <th>npH</th>\n",
       "      <td>-0.049592</td>\n",
       "      <td>-0.133475</td>\n",
       "      <td>0.113991</td>\n",
       "      <td>0.029930</td>\n",
       "      <td>0.108448</td>\n",
       "      <td>0.020617</td>\n",
       "      <td>1.000000</td>\n",
       "      <td>-0.049214</td>\n",
       "      <td>-0.062054</td>\n",
       "      <td>-0.145703</td>\n",
       "      <td>-0.288119</td>\n",
       "      <td>-0.027950</td>\n",
       "      <td>1.000000</td>\n",
       "      <td>-0.049214</td>\n",
       "      <td>-0.145703</td>\n",
       "      <td>-0.288119</td>\n",
       "      <td>-0.027950</td>\n",
       "      <td>-0.062054</td>\n",
       "      <td>0.304437</td>\n",
       "    </tr>\n",
       "    <tr>\n",
       "      <th>ndo</th>\n",
       "      <td>0.890867</td>\n",
       "      <td>0.017904</td>\n",
       "      <td>-0.132189</td>\n",
       "      <td>-0.247562</td>\n",
       "      <td>-0.206099</td>\n",
       "      <td>-0.137880</td>\n",
       "      <td>-0.049214</td>\n",
       "      <td>1.000000</td>\n",
       "      <td>0.270071</td>\n",
       "      <td>0.382092</td>\n",
       "      <td>0.323205</td>\n",
       "      <td>0.048204</td>\n",
       "      <td>-0.049214</td>\n",
       "      <td>1.000000</td>\n",
       "      <td>0.382092</td>\n",
       "      <td>0.323205</td>\n",
       "      <td>0.048204</td>\n",
       "      <td>0.270071</td>\n",
       "      <td>0.687949</td>\n",
       "    </tr>\n",
       "    <tr>\n",
       "      <th>nco</th>\n",
       "      <td>0.323838</td>\n",
       "      <td>-0.017073</td>\n",
       "      <td>-0.067123</td>\n",
       "      <td>-0.135078</td>\n",
       "      <td>-0.230503</td>\n",
       "      <td>-0.071770</td>\n",
       "      <td>-0.062054</td>\n",
       "      <td>0.270071</td>\n",
       "      <td>1.000000</td>\n",
       "      <td>0.380876</td>\n",
       "      <td>0.288463</td>\n",
       "      <td>0.073066</td>\n",
       "      <td>-0.062054</td>\n",
       "      <td>0.270071</td>\n",
       "      <td>0.380876</td>\n",
       "      <td>0.288463</td>\n",
       "      <td>0.073066</td>\n",
       "      <td>1.000000</td>\n",
       "      <td>0.728725</td>\n",
       "    </tr>\n",
       "    <tr>\n",
       "      <th>nbdo</th>\n",
       "      <td>0.417970</td>\n",
       "      <td>-0.019346</td>\n",
       "      <td>-0.159589</td>\n",
       "      <td>-0.587243</td>\n",
       "      <td>-0.303879</td>\n",
       "      <td>-0.142592</td>\n",
       "      <td>-0.145703</td>\n",
       "      <td>0.382092</td>\n",
       "      <td>0.380876</td>\n",
       "      <td>1.000000</td>\n",
       "      <td>0.436725</td>\n",
       "      <td>0.044731</td>\n",
       "      <td>-0.145703</td>\n",
       "      <td>0.382092</td>\n",
       "      <td>1.000000</td>\n",
       "      <td>0.436725</td>\n",
       "      <td>0.044731</td>\n",
       "      <td>0.380876</td>\n",
       "      <td>0.619243</td>\n",
       "    </tr>\n",
       "    <tr>\n",
       "      <th>nec</th>\n",
       "      <td>0.372918</td>\n",
       "      <td>0.067391</td>\n",
       "      <td>-0.361571</td>\n",
       "      <td>-0.178129</td>\n",
       "      <td>-0.193567</td>\n",
       "      <td>-0.044908</td>\n",
       "      <td>-0.288119</td>\n",
       "      <td>0.323205</td>\n",
       "      <td>0.288463</td>\n",
       "      <td>0.436725</td>\n",
       "      <td>1.000000</td>\n",
       "      <td>0.057833</td>\n",
       "      <td>-0.288119</td>\n",
       "      <td>0.323205</td>\n",
       "      <td>0.436725</td>\n",
       "      <td>1.000000</td>\n",
       "      <td>0.057833</td>\n",
       "      <td>0.288463</td>\n",
       "      <td>0.332915</td>\n",
       "    </tr>\n",
       "    <tr>\n",
       "      <th>nna</th>\n",
       "      <td>0.055922</td>\n",
       "      <td>0.002730</td>\n",
       "      <td>-0.051449</td>\n",
       "      <td>-0.015633</td>\n",
       "      <td>-0.726827</td>\n",
       "      <td>0.000602</td>\n",
       "      <td>-0.027950</td>\n",
       "      <td>0.048204</td>\n",
       "      <td>0.073066</td>\n",
       "      <td>0.044731</td>\n",
       "      <td>0.057833</td>\n",
       "      <td>1.000000</td>\n",
       "      <td>-0.027950</td>\n",
       "      <td>0.048204</td>\n",
       "      <td>0.044731</td>\n",
       "      <td>0.057833</td>\n",
       "      <td>1.000000</td>\n",
       "      <td>0.073066</td>\n",
       "      <td>0.066236</td>\n",
       "    </tr>\n",
       "    <tr>\n",
       "      <th>wph</th>\n",
       "      <td>-0.049592</td>\n",
       "      <td>-0.133475</td>\n",
       "      <td>0.113991</td>\n",
       "      <td>0.029930</td>\n",
       "      <td>0.108448</td>\n",
       "      <td>0.020617</td>\n",
       "      <td>1.000000</td>\n",
       "      <td>-0.049214</td>\n",
       "      <td>-0.062054</td>\n",
       "      <td>-0.145703</td>\n",
       "      <td>-0.288119</td>\n",
       "      <td>-0.027950</td>\n",
       "      <td>1.000000</td>\n",
       "      <td>-0.049214</td>\n",
       "      <td>-0.145703</td>\n",
       "      <td>-0.288119</td>\n",
       "      <td>-0.027950</td>\n",
       "      <td>-0.062054</td>\n",
       "      <td>0.304437</td>\n",
       "    </tr>\n",
       "    <tr>\n",
       "      <th>wdo</th>\n",
       "      <td>0.890867</td>\n",
       "      <td>0.017904</td>\n",
       "      <td>-0.132189</td>\n",
       "      <td>-0.247562</td>\n",
       "      <td>-0.206099</td>\n",
       "      <td>-0.137880</td>\n",
       "      <td>-0.049214</td>\n",
       "      <td>1.000000</td>\n",
       "      <td>0.270071</td>\n",
       "      <td>0.382092</td>\n",
       "      <td>0.323205</td>\n",
       "      <td>0.048204</td>\n",
       "      <td>-0.049214</td>\n",
       "      <td>1.000000</td>\n",
       "      <td>0.382092</td>\n",
       "      <td>0.323205</td>\n",
       "      <td>0.048204</td>\n",
       "      <td>0.270071</td>\n",
       "      <td>0.687949</td>\n",
       "    </tr>\n",
       "    <tr>\n",
       "      <th>wbdo</th>\n",
       "      <td>0.417970</td>\n",
       "      <td>-0.019346</td>\n",
       "      <td>-0.159589</td>\n",
       "      <td>-0.587243</td>\n",
       "      <td>-0.303879</td>\n",
       "      <td>-0.142592</td>\n",
       "      <td>-0.145703</td>\n",
       "      <td>0.382092</td>\n",
       "      <td>0.380876</td>\n",
       "      <td>1.000000</td>\n",
       "      <td>0.436725</td>\n",
       "      <td>0.044731</td>\n",
       "      <td>-0.145703</td>\n",
       "      <td>0.382092</td>\n",
       "      <td>1.000000</td>\n",
       "      <td>0.436725</td>\n",
       "      <td>0.044731</td>\n",
       "      <td>0.380876</td>\n",
       "      <td>0.619243</td>\n",
       "    </tr>\n",
       "    <tr>\n",
       "      <th>wec</th>\n",
       "      <td>0.372918</td>\n",
       "      <td>0.067391</td>\n",
       "      <td>-0.361571</td>\n",
       "      <td>-0.178129</td>\n",
       "      <td>-0.193567</td>\n",
       "      <td>-0.044908</td>\n",
       "      <td>-0.288119</td>\n",
       "      <td>0.323205</td>\n",
       "      <td>0.288463</td>\n",
       "      <td>0.436725</td>\n",
       "      <td>1.000000</td>\n",
       "      <td>0.057833</td>\n",
       "      <td>-0.288119</td>\n",
       "      <td>0.323205</td>\n",
       "      <td>0.436725</td>\n",
       "      <td>1.000000</td>\n",
       "      <td>0.057833</td>\n",
       "      <td>0.288463</td>\n",
       "      <td>0.332915</td>\n",
       "    </tr>\n",
       "    <tr>\n",
       "      <th>wna</th>\n",
       "      <td>0.055922</td>\n",
       "      <td>0.002730</td>\n",
       "      <td>-0.051449</td>\n",
       "      <td>-0.015633</td>\n",
       "      <td>-0.726827</td>\n",
       "      <td>0.000602</td>\n",
       "      <td>-0.027950</td>\n",
       "      <td>0.048204</td>\n",
       "      <td>0.073066</td>\n",
       "      <td>0.044731</td>\n",
       "      <td>0.057833</td>\n",
       "      <td>1.000000</td>\n",
       "      <td>-0.027950</td>\n",
       "      <td>0.048204</td>\n",
       "      <td>0.044731</td>\n",
       "      <td>0.057833</td>\n",
       "      <td>1.000000</td>\n",
       "      <td>0.073066</td>\n",
       "      <td>0.066236</td>\n",
       "    </tr>\n",
       "    <tr>\n",
       "      <th>wco</th>\n",
       "      <td>0.323838</td>\n",
       "      <td>-0.017073</td>\n",
       "      <td>-0.067123</td>\n",
       "      <td>-0.135078</td>\n",
       "      <td>-0.230503</td>\n",
       "      <td>-0.071770</td>\n",
       "      <td>-0.062054</td>\n",
       "      <td>0.270071</td>\n",
       "      <td>1.000000</td>\n",
       "      <td>0.380876</td>\n",
       "      <td>0.288463</td>\n",
       "      <td>0.073066</td>\n",
       "      <td>-0.062054</td>\n",
       "      <td>0.270071</td>\n",
       "      <td>0.380876</td>\n",
       "      <td>0.288463</td>\n",
       "      <td>0.073066</td>\n",
       "      <td>1.000000</td>\n",
       "      <td>0.728725</td>\n",
       "    </tr>\n",
       "    <tr>\n",
       "      <th>wqi</th>\n",
       "      <td>0.678835</td>\n",
       "      <td>-0.059446</td>\n",
       "      <td>-0.104824</td>\n",
       "      <td>-0.349364</td>\n",
       "      <td>-0.264952</td>\n",
       "      <td>-0.133946</td>\n",
       "      <td>0.304437</td>\n",
       "      <td>0.687949</td>\n",
       "      <td>0.728725</td>\n",
       "      <td>0.619243</td>\n",
       "      <td>0.332915</td>\n",
       "      <td>0.066236</td>\n",
       "      <td>0.304437</td>\n",
       "      <td>0.687949</td>\n",
       "      <td>0.619243</td>\n",
       "      <td>0.332915</td>\n",
       "      <td>0.066236</td>\n",
       "      <td>0.728725</td>\n",
       "      <td>1.000000</td>\n",
       "    </tr>\n",
       "  </tbody>\n",
       "</table>\n",
       "</div>"
      ],
      "text/plain": [
       "            do        ph        co       bod        na        tc       npH  \\\n",
       "do    1.000000  0.034819 -0.165748 -0.248498 -0.190878 -0.142970 -0.049592   \n",
       "ph    0.034819  1.000000 -0.017860  0.041400 -0.006630 -0.002126 -0.133475   \n",
       "co   -0.165748 -0.017860  1.000000  0.101524  0.056563  0.003404  0.113991   \n",
       "bod  -0.248498  0.041400  0.101524  1.000000  0.126051  0.164391  0.029930   \n",
       "na   -0.190878 -0.006630  0.056563  0.126051  1.000000 -0.000897  0.108448   \n",
       "tc   -0.142970 -0.002126  0.003404  0.164391 -0.000897  1.000000  0.020617   \n",
       "npH  -0.049592 -0.133475  0.113991  0.029930  0.108448  0.020617  1.000000   \n",
       "ndo   0.890867  0.017904 -0.132189 -0.247562 -0.206099 -0.137880 -0.049214   \n",
       "nco   0.323838 -0.017073 -0.067123 -0.135078 -0.230503 -0.071770 -0.062054   \n",
       "nbdo  0.417970 -0.019346 -0.159589 -0.587243 -0.303879 -0.142592 -0.145703   \n",
       "nec   0.372918  0.067391 -0.361571 -0.178129 -0.193567 -0.044908 -0.288119   \n",
       "nna   0.055922  0.002730 -0.051449 -0.015633 -0.726827  0.000602 -0.027950   \n",
       "wph  -0.049592 -0.133475  0.113991  0.029930  0.108448  0.020617  1.000000   \n",
       "wdo   0.890867  0.017904 -0.132189 -0.247562 -0.206099 -0.137880 -0.049214   \n",
       "wbdo  0.417970 -0.019346 -0.159589 -0.587243 -0.303879 -0.142592 -0.145703   \n",
       "wec   0.372918  0.067391 -0.361571 -0.178129 -0.193567 -0.044908 -0.288119   \n",
       "wna   0.055922  0.002730 -0.051449 -0.015633 -0.726827  0.000602 -0.027950   \n",
       "wco   0.323838 -0.017073 -0.067123 -0.135078 -0.230503 -0.071770 -0.062054   \n",
       "wqi   0.678835 -0.059446 -0.104824 -0.349364 -0.264952 -0.133946  0.304437   \n",
       "\n",
       "           ndo       nco      nbdo       nec       nna       wph       wdo  \\\n",
       "do    0.890867  0.323838  0.417970  0.372918  0.055922 -0.049592  0.890867   \n",
       "ph    0.017904 -0.017073 -0.019346  0.067391  0.002730 -0.133475  0.017904   \n",
       "co   -0.132189 -0.067123 -0.159589 -0.361571 -0.051449  0.113991 -0.132189   \n",
       "bod  -0.247562 -0.135078 -0.587243 -0.178129 -0.015633  0.029930 -0.247562   \n",
       "na   -0.206099 -0.230503 -0.303879 -0.193567 -0.726827  0.108448 -0.206099   \n",
       "tc   -0.137880 -0.071770 -0.142592 -0.044908  0.000602  0.020617 -0.137880   \n",
       "npH  -0.049214 -0.062054 -0.145703 -0.288119 -0.027950  1.000000 -0.049214   \n",
       "ndo   1.000000  0.270071  0.382092  0.323205  0.048204 -0.049214  1.000000   \n",
       "nco   0.270071  1.000000  0.380876  0.288463  0.073066 -0.062054  0.270071   \n",
       "nbdo  0.382092  0.380876  1.000000  0.436725  0.044731 -0.145703  0.382092   \n",
       "nec   0.323205  0.288463  0.436725  1.000000  0.057833 -0.288119  0.323205   \n",
       "nna   0.048204  0.073066  0.044731  0.057833  1.000000 -0.027950  0.048204   \n",
       "wph  -0.049214 -0.062054 -0.145703 -0.288119 -0.027950  1.000000 -0.049214   \n",
       "wdo   1.000000  0.270071  0.382092  0.323205  0.048204 -0.049214  1.000000   \n",
       "wbdo  0.382092  0.380876  1.000000  0.436725  0.044731 -0.145703  0.382092   \n",
       "wec   0.323205  0.288463  0.436725  1.000000  0.057833 -0.288119  0.323205   \n",
       "wna   0.048204  0.073066  0.044731  0.057833  1.000000 -0.027950  0.048204   \n",
       "wco   0.270071  1.000000  0.380876  0.288463  0.073066 -0.062054  0.270071   \n",
       "wqi   0.687949  0.728725  0.619243  0.332915  0.066236  0.304437  0.687949   \n",
       "\n",
       "          wbdo       wec       wna       wco       wqi  \n",
       "do    0.417970  0.372918  0.055922  0.323838  0.678835  \n",
       "ph   -0.019346  0.067391  0.002730 -0.017073 -0.059446  \n",
       "co   -0.159589 -0.361571 -0.051449 -0.067123 -0.104824  \n",
       "bod  -0.587243 -0.178129 -0.015633 -0.135078 -0.349364  \n",
       "na   -0.303879 -0.193567 -0.726827 -0.230503 -0.264952  \n",
       "tc   -0.142592 -0.044908  0.000602 -0.071770 -0.133946  \n",
       "npH  -0.145703 -0.288119 -0.027950 -0.062054  0.304437  \n",
       "ndo   0.382092  0.323205  0.048204  0.270071  0.687949  \n",
       "nco   0.380876  0.288463  0.073066  1.000000  0.728725  \n",
       "nbdo  1.000000  0.436725  0.044731  0.380876  0.619243  \n",
       "nec   0.436725  1.000000  0.057833  0.288463  0.332915  \n",
       "nna   0.044731  0.057833  1.000000  0.073066  0.066236  \n",
       "wph  -0.145703 -0.288119 -0.027950 -0.062054  0.304437  \n",
       "wdo   0.382092  0.323205  0.048204  0.270071  0.687949  \n",
       "wbdo  1.000000  0.436725  0.044731  0.380876  0.619243  \n",
       "wec   0.436725  1.000000  0.057833  0.288463  0.332915  \n",
       "wna   0.044731  0.057833  1.000000  0.073066  0.066236  \n",
       "wco   0.380876  0.288463  0.073066  1.000000  0.728725  \n",
       "wqi   0.619243  0.332915  0.066236  0.728725  1.000000  "
      ]
     },
     "execution_count": 34,
     "metadata": {},
     "output_type": "execute_result"
    }
   ],
   "source": [
    "data.corr()"
   ]
  },
  {
   "cell_type": "code",
   "execution_count": 35,
   "metadata": {
    "_uuid": "82ccdd01f19e5b85ccae5d818e2c18db2844de16"
   },
   "outputs": [],
   "source": [
    "from sklearn.model_selection import train_test_split"
   ]
  },
  {
   "cell_type": "code",
   "execution_count": 36,
   "metadata": {},
   "outputs": [],
   "source": [
    "x=data.iloc[:,[0,1,2,3,4,5]]\n",
    "y=data.iloc[:,[18]]"
   ]
  },
  {
   "cell_type": "code",
   "execution_count": 37,
   "metadata": {},
   "outputs": [],
   "source": [
    "x_train,x_test,y_train,y_test=train_test_split(x,y,test_size=0.2,random_state=0)"
   ]
  },
  {
   "cell_type": "code",
   "execution_count": 38,
   "metadata": {},
   "outputs": [
    {
     "data": {
      "text/html": [
       "<div>\n",
       "<style scoped>\n",
       "    .dataframe tbody tr th:only-of-type {\n",
       "        vertical-align: middle;\n",
       "    }\n",
       "\n",
       "    .dataframe tbody tr th {\n",
       "        vertical-align: top;\n",
       "    }\n",
       "\n",
       "    .dataframe thead th {\n",
       "        text-align: right;\n",
       "    }\n",
       "</style>\n",
       "<table border=\"1\" class=\"dataframe\">\n",
       "  <thead>\n",
       "    <tr style=\"text-align: right;\">\n",
       "      <th></th>\n",
       "      <th>do</th>\n",
       "      <th>ph</th>\n",
       "      <th>co</th>\n",
       "      <th>bod</th>\n",
       "      <th>na</th>\n",
       "      <th>tc</th>\n",
       "    </tr>\n",
       "  </thead>\n",
       "  <tbody>\n",
       "    <tr>\n",
       "      <th>161</th>\n",
       "      <td>6.6</td>\n",
       "      <td>6.4</td>\n",
       "      <td>101.0</td>\n",
       "      <td>2.5</td>\n",
       "      <td>0.200000</td>\n",
       "      <td>41.0</td>\n",
       "    </tr>\n",
       "    <tr>\n",
       "      <th>1595</th>\n",
       "      <td>7.1</td>\n",
       "      <td>6.1</td>\n",
       "      <td>34.0</td>\n",
       "      <td>0.6</td>\n",
       "      <td>0.500000</td>\n",
       "      <td>1975.0</td>\n",
       "    </tr>\n",
       "    <tr>\n",
       "      <th>320</th>\n",
       "      <td>6.9</td>\n",
       "      <td>7.5</td>\n",
       "      <td>159.0</td>\n",
       "      <td>2.8</td>\n",
       "      <td>1.000000</td>\n",
       "      <td>82.0</td>\n",
       "    </tr>\n",
       "    <tr>\n",
       "      <th>994</th>\n",
       "      <td>4.9</td>\n",
       "      <td>7.0</td>\n",
       "      <td>180.0</td>\n",
       "      <td>1.2</td>\n",
       "      <td>1.623079</td>\n",
       "      <td>10.0</td>\n",
       "    </tr>\n",
       "    <tr>\n",
       "      <th>467</th>\n",
       "      <td>7.9</td>\n",
       "      <td>7.3</td>\n",
       "      <td>46.0</td>\n",
       "      <td>1.4</td>\n",
       "      <td>1.000000</td>\n",
       "      <td>29.0</td>\n",
       "    </tr>\n",
       "  </tbody>\n",
       "</table>\n",
       "</div>"
      ],
      "text/plain": [
       "       do   ph     co  bod        na      tc\n",
       "161   6.6  6.4  101.0  2.5  0.200000    41.0\n",
       "1595  7.1  6.1   34.0  0.6  0.500000  1975.0\n",
       "320   6.9  7.5  159.0  2.8  1.000000    82.0\n",
       "994   4.9  7.0  180.0  1.2  1.623079    10.0\n",
       "467   7.9  7.3   46.0  1.4  1.000000    29.0"
      ]
     },
     "execution_count": 38,
     "metadata": {},
     "output_type": "execute_result"
    }
   ],
   "source": [
    "x_train.head()"
   ]
  },
  {
   "cell_type": "code",
   "execution_count": 39,
   "metadata": {},
   "outputs": [
    {
     "data": {
      "text/html": [
       "<div>\n",
       "<style scoped>\n",
       "    .dataframe tbody tr th:only-of-type {\n",
       "        vertical-align: middle;\n",
       "    }\n",
       "\n",
       "    .dataframe tbody tr th {\n",
       "        vertical-align: top;\n",
       "    }\n",
       "\n",
       "    .dataframe thead th {\n",
       "        text-align: right;\n",
       "    }\n",
       "</style>\n",
       "<table border=\"1\" class=\"dataframe\">\n",
       "  <thead>\n",
       "    <tr style=\"text-align: right;\">\n",
       "      <th></th>\n",
       "      <th>wqi</th>\n",
       "    </tr>\n",
       "  </thead>\n",
       "  <tbody>\n",
       "    <tr>\n",
       "      <th>161</th>\n",
       "      <td>77.50</td>\n",
       "    </tr>\n",
       "    <tr>\n",
       "      <th>1595</th>\n",
       "      <td>66.44</td>\n",
       "    </tr>\n",
       "    <tr>\n",
       "      <th>320</th>\n",
       "      <td>88.20</td>\n",
       "    </tr>\n",
       "    <tr>\n",
       "      <th>994</th>\n",
       "      <td>82.58</td>\n",
       "    </tr>\n",
       "    <tr>\n",
       "      <th>467</th>\n",
       "      <td>94.18</td>\n",
       "    </tr>\n",
       "  </tbody>\n",
       "</table>\n",
       "</div>"
      ],
      "text/plain": [
       "        wqi\n",
       "161   77.50\n",
       "1595  66.44\n",
       "320   88.20\n",
       "994   82.58\n",
       "467   94.18"
      ]
     },
     "execution_count": 39,
     "metadata": {},
     "output_type": "execute_result"
    }
   ],
   "source": [
    "y_train.head()"
   ]
  },
  {
   "cell_type": "code",
   "execution_count": 40,
   "metadata": {},
   "outputs": [],
   "source": [
    "from sklearn.linear_model import LinearRegression\n",
    "mr=LinearRegression()"
   ]
  },
  {
   "cell_type": "code",
   "execution_count": 41,
   "metadata": {},
   "outputs": [
    {
     "data": {
      "text/plain": [
       "LinearRegression()"
      ]
     },
     "execution_count": 41,
     "metadata": {},
     "output_type": "execute_result"
    }
   ],
   "source": [
    "mr.fit(x_train,y_train)"
   ]
  },
  {
   "cell_type": "code",
   "execution_count": 42,
   "metadata": {},
   "outputs": [
    {
     "data": {
      "text/plain": [
       "array([[54.48165484],\n",
       "       [79.10809413],\n",
       "       [51.48411042],\n",
       "       [79.64329086],\n",
       "       [80.42828766],\n",
       "       [74.0342572 ],\n",
       "       [79.01901118],\n",
       "       [87.72890681],\n",
       "       [83.53664578],\n",
       "       [75.44883091],\n",
       "       [80.73509534],\n",
       "       [66.65842756],\n",
       "       [53.979045  ],\n",
       "       [76.64903948],\n",
       "       [64.24533252],\n",
       "       [68.86744137],\n",
       "       [76.92382891],\n",
       "       [58.39581154],\n",
       "       [88.84251416],\n",
       "       [82.70255812],\n",
       "       [77.77876259],\n",
       "       [78.52283707],\n",
       "       [77.22037473],\n",
       "       [77.19118296],\n",
       "       [82.29234395],\n",
       "       [81.37746987],\n",
       "       [81.06664363],\n",
       "       [83.08394892],\n",
       "       [50.00440148],\n",
       "       [74.77280319],\n",
       "       [76.16480116],\n",
       "       [67.97983374],\n",
       "       [70.27385717],\n",
       "       [83.53907108],\n",
       "       [65.35413662],\n",
       "       [92.10981807],\n",
       "       [76.26430148],\n",
       "       [76.01053336],\n",
       "       [71.62537758],\n",
       "       [76.02621616],\n",
       "       [77.53163221],\n",
       "       [66.53789817],\n",
       "       [81.33673836],\n",
       "       [69.70132826],\n",
       "       [77.29335683],\n",
       "       [64.038572  ],\n",
       "       [71.06728541],\n",
       "       [54.89851805],\n",
       "       [78.39684986],\n",
       "       [68.29908903],\n",
       "       [78.39528264],\n",
       "       [81.66820813],\n",
       "       [83.49495498],\n",
       "       [77.43933083],\n",
       "       [87.80757942],\n",
       "       [52.41338645],\n",
       "       [79.4676663 ],\n",
       "       [82.50112311],\n",
       "       [76.50411756],\n",
       "       [75.48921472],\n",
       "       [85.22789403],\n",
       "       [81.35317109],\n",
       "       [71.63135006],\n",
       "       [84.24219658],\n",
       "       [78.06087191],\n",
       "       [81.05902152],\n",
       "       [70.20343728],\n",
       "       [77.53814444],\n",
       "       [56.58128388],\n",
       "       [69.34079532],\n",
       "       [81.91082164],\n",
       "       [79.61272124],\n",
       "       [83.49406923],\n",
       "       [78.73922164],\n",
       "       [78.78053338],\n",
       "       [75.26401304],\n",
       "       [56.11101832],\n",
       "       [73.47257587],\n",
       "       [81.61591751],\n",
       "       [75.89466448],\n",
       "       [74.65148668],\n",
       "       [73.47954718],\n",
       "       [81.57544356],\n",
       "       [69.51696196],\n",
       "       [57.9590657 ],\n",
       "       [71.08080623],\n",
       "       [83.39392241],\n",
       "       [88.97863119],\n",
       "       [80.31374025],\n",
       "       [80.54252622],\n",
       "       [77.51861826],\n",
       "       [77.8924305 ],\n",
       "       [83.29399452],\n",
       "       [76.65311975],\n",
       "       [69.95211651],\n",
       "       [79.81762101],\n",
       "       [83.29755611],\n",
       "       [74.30622066],\n",
       "       [71.72077557],\n",
       "       [82.15433074],\n",
       "       [74.59991316],\n",
       "       [90.18256669],\n",
       "       [74.42392994],\n",
       "       [55.9557326 ],\n",
       "       [65.11681548],\n",
       "       [67.95232066],\n",
       "       [76.66215481],\n",
       "       [77.91884292],\n",
       "       [81.53860104],\n",
       "       [77.51822758],\n",
       "       [75.47681384],\n",
       "       [77.50021067],\n",
       "       [68.12754765],\n",
       "       [74.18607665],\n",
       "       [72.19907639],\n",
       "       [55.07974524],\n",
       "       [81.97751295],\n",
       "       [78.50314377],\n",
       "       [72.65972673],\n",
       "       [76.58002084],\n",
       "       [80.24322079],\n",
       "       [73.82266278],\n",
       "       [82.84842253],\n",
       "       [79.75080688],\n",
       "       [40.25282797],\n",
       "       [82.72595004],\n",
       "       [85.06838925],\n",
       "       [78.33105329],\n",
       "       [75.42070772],\n",
       "       [92.54420907],\n",
       "       [55.35307164],\n",
       "       [66.32854538],\n",
       "       [81.35043159],\n",
       "       [82.25841017],\n",
       "       [79.03033085],\n",
       "       [73.65793252],\n",
       "       [79.34302307],\n",
       "       [90.20768194],\n",
       "       [60.30791417],\n",
       "       [52.74953809],\n",
       "       [67.17958325],\n",
       "       [69.58177153],\n",
       "       [81.22368314],\n",
       "       [75.69293136],\n",
       "       [85.3258427 ],\n",
       "       [75.95032454],\n",
       "       [75.01351768],\n",
       "       [78.40800965],\n",
       "       [80.96352138],\n",
       "       [80.88576756],\n",
       "       [79.75161674],\n",
       "       [82.65515238],\n",
       "       [78.10930574],\n",
       "       [78.10170094],\n",
       "       [85.11259056],\n",
       "       [80.56734195],\n",
       "       [73.49820559],\n",
       "       [81.60748234],\n",
       "       [80.2769868 ],\n",
       "       [83.00964596],\n",
       "       [45.36514658],\n",
       "       [75.304285  ],\n",
       "       [80.87531144],\n",
       "       [69.39441276],\n",
       "       [78.49145698],\n",
       "       [78.93575771],\n",
       "       [84.33931822],\n",
       "       [79.54501802],\n",
       "       [78.69855179],\n",
       "       [77.72421937],\n",
       "       [77.17523476],\n",
       "       [84.55719039],\n",
       "       [82.53727671],\n",
       "       [66.81040665],\n",
       "       [61.60695023],\n",
       "       [79.06610319],\n",
       "       [83.90356776],\n",
       "       [79.64487602],\n",
       "       [70.35158697],\n",
       "       [82.19109373],\n",
       "       [69.81397088],\n",
       "       [77.36844166],\n",
       "       [82.0155192 ],\n",
       "       [73.40417859],\n",
       "       [82.69628617],\n",
       "       [68.23230426],\n",
       "       [84.17102551],\n",
       "       [46.43776625],\n",
       "       [80.87645906],\n",
       "       [18.37336808],\n",
       "       [77.53696041],\n",
       "       [77.27885994],\n",
       "       [76.14474261],\n",
       "       [68.96766843],\n",
       "       [74.77234832],\n",
       "       [76.91377696],\n",
       "       [78.27113179],\n",
       "       [75.40177638],\n",
       "       [76.93240427],\n",
       "       [77.89125503],\n",
       "       [63.28404855],\n",
       "       [88.05222085],\n",
       "       [74.78214508],\n",
       "       [82.90461747],\n",
       "       [77.33661869],\n",
       "       [48.30629372],\n",
       "       [79.05762215],\n",
       "       [77.90115685],\n",
       "       [62.98021645],\n",
       "       [76.25305235],\n",
       "       [82.6120672 ],\n",
       "       [78.6045125 ],\n",
       "       [88.40813752],\n",
       "       [81.34933392],\n",
       "       [35.83747113],\n",
       "       [80.04505918],\n",
       "       [80.04644095],\n",
       "       [65.35938158],\n",
       "       [79.15043995],\n",
       "       [79.41543297],\n",
       "       [80.73053249],\n",
       "       [80.84995631],\n",
       "       [67.11739899],\n",
       "       [84.11120228],\n",
       "       [79.17884632],\n",
       "       [59.42640926],\n",
       "       [63.25337301],\n",
       "       [77.22758575],\n",
       "       [80.55321062],\n",
       "       [70.38046225],\n",
       "       [75.38231942],\n",
       "       [78.19680981],\n",
       "       [68.50182396],\n",
       "       [81.54017722],\n",
       "       [75.94488605],\n",
       "       [75.75875712],\n",
       "       [78.96229327],\n",
       "       [78.04807782],\n",
       "       [80.15331435],\n",
       "       [71.14899602],\n",
       "       [58.30793665],\n",
       "       [81.67705896],\n",
       "       [80.35787635],\n",
       "       [76.32746522],\n",
       "       [64.23179923],\n",
       "       [84.39288534],\n",
       "       [83.26958235],\n",
       "       [64.21005914],\n",
       "       [58.41774424],\n",
       "       [77.7226028 ],\n",
       "       [72.3127211 ],\n",
       "       [82.8311216 ],\n",
       "       [85.09568124],\n",
       "       [79.91554862],\n",
       "       [76.59857113],\n",
       "       [79.0071838 ],\n",
       "       [76.71500248],\n",
       "       [80.0327758 ],\n",
       "       [82.01253747],\n",
       "       [82.26812465],\n",
       "       [79.03726239],\n",
       "       [38.15031062],\n",
       "       [79.61198375],\n",
       "       [83.52175239],\n",
       "       [87.4589004 ],\n",
       "       [83.50460374],\n",
       "       [78.02889508],\n",
       "       [84.63656399],\n",
       "       [83.27041977],\n",
       "       [76.23238406],\n",
       "       [77.92143577],\n",
       "       [79.78526511],\n",
       "       [67.09981732],\n",
       "       [56.46756128],\n",
       "       [69.4453833 ],\n",
       "       [36.23736674],\n",
       "       [69.69380225],\n",
       "       [75.86715712],\n",
       "       [74.42138763],\n",
       "       [68.06506071],\n",
       "       [79.13618591],\n",
       "       [76.07147847],\n",
       "       [75.4295823 ],\n",
       "       [62.38155614],\n",
       "       [83.83712579],\n",
       "       [75.87152228],\n",
       "       [31.47857425],\n",
       "       [78.10935617],\n",
       "       [77.33841744],\n",
       "       [74.17431907],\n",
       "       [80.91783075],\n",
       "       [82.43147957],\n",
       "       [77.30134951],\n",
       "       [43.00517153],\n",
       "       [59.71852339],\n",
       "       [61.76459027],\n",
       "       [80.54951739],\n",
       "       [76.85102043],\n",
       "       [76.84628565],\n",
       "       [79.09121158],\n",
       "       [75.85481009],\n",
       "       [84.52335716],\n",
       "       [80.28742605],\n",
       "       [81.15486966],\n",
       "       [78.70506955],\n",
       "       [80.16014795],\n",
       "       [84.50371504],\n",
       "       [75.31106062],\n",
       "       [72.97760569],\n",
       "       [69.5792611 ],\n",
       "       [78.11954665],\n",
       "       [75.91996911],\n",
       "       [83.43128295],\n",
       "       [37.17847101],\n",
       "       [81.79298847],\n",
       "       [82.16631015],\n",
       "       [80.04214301],\n",
       "       [66.98353898],\n",
       "       [78.65006447],\n",
       "       [82.60636946],\n",
       "       [76.64896268],\n",
       "       [77.3425876 ],\n",
       "       [77.75727585],\n",
       "       [66.22857123],\n",
       "       [76.54543654],\n",
       "       [61.48758029],\n",
       "       [71.5431617 ],\n",
       "       [76.51972134],\n",
       "       [80.91162712],\n",
       "       [76.58275347],\n",
       "       [79.80421659],\n",
       "       [81.50499595],\n",
       "       [75.96281537],\n",
       "       [70.73873671],\n",
       "       [79.85498259],\n",
       "       [82.17476753],\n",
       "       [81.61016988],\n",
       "       [71.14677623],\n",
       "       [85.31972198],\n",
       "       [76.07999125],\n",
       "       [79.7507378 ],\n",
       "       [80.41502452],\n",
       "       [59.97216758],\n",
       "       [82.25077765],\n",
       "       [70.42768029],\n",
       "       [64.30506975],\n",
       "       [79.11027458],\n",
       "       [78.10331724],\n",
       "       [80.99380526],\n",
       "       [82.08017024],\n",
       "       [70.43518629],\n",
       "       [79.27635191],\n",
       "       [80.13088285],\n",
       "       [81.51658216],\n",
       "       [79.82300879],\n",
       "       [72.53240046],\n",
       "       [80.77566982],\n",
       "       [90.23221542],\n",
       "       [69.00267479],\n",
       "       [81.59940715],\n",
       "       [77.67279318],\n",
       "       [50.45076633],\n",
       "       [64.1658617 ],\n",
       "       [79.68429641],\n",
       "       [75.9056112 ],\n",
       "       [79.74309986],\n",
       "       [75.17047719],\n",
       "       [80.41667981],\n",
       "       [80.6778775 ],\n",
       "       [73.94690991],\n",
       "       [68.25834551],\n",
       "       [83.42767244],\n",
       "       [81.54418588],\n",
       "       [81.15495179],\n",
       "       [67.96996519],\n",
       "       [58.68882216],\n",
       "       [77.9447963 ],\n",
       "       [75.48222487],\n",
       "       [73.33826395],\n",
       "       [78.42593724],\n",
       "       [85.36555555],\n",
       "       [80.35536608],\n",
       "       [71.02889732],\n",
       "       [74.73132583],\n",
       "       [85.86818388],\n",
       "       [84.10300191],\n",
       "       [48.32352271],\n",
       "       [75.1835126 ],\n",
       "       [78.78604412],\n",
       "       [76.81536552],\n",
       "       [80.02757103],\n",
       "       [81.15269698],\n",
       "       [80.92089444],\n",
       "       [79.51987107],\n",
       "       [73.16347429],\n",
       "       [86.57050297],\n",
       "       [77.32567312],\n",
       "       [80.91827397]])"
      ]
     },
     "execution_count": 42,
     "metadata": {},
     "output_type": "execute_result"
    }
   ],
   "source": [
    "y_predict=mr.predict(x_test)\n",
    "y_predict"
   ]
  },
  {
   "cell_type": "code",
   "execution_count": 43,
   "metadata": {
    "scrolled": true
   },
   "outputs": [
    {
     "data": {
      "text/html": [
       "<div>\n",
       "<style scoped>\n",
       "    .dataframe tbody tr th:only-of-type {\n",
       "        vertical-align: middle;\n",
       "    }\n",
       "\n",
       "    .dataframe tbody tr th {\n",
       "        vertical-align: top;\n",
       "    }\n",
       "\n",
       "    .dataframe thead th {\n",
       "        text-align: right;\n",
       "    }\n",
       "</style>\n",
       "<table border=\"1\" class=\"dataframe\">\n",
       "  <thead>\n",
       "    <tr style=\"text-align: right;\">\n",
       "      <th></th>\n",
       "      <th>wqi</th>\n",
       "    </tr>\n",
       "  </thead>\n",
       "  <tbody>\n",
       "    <tr>\n",
       "      <th>1294</th>\n",
       "      <td>37.44</td>\n",
       "    </tr>\n",
       "    <tr>\n",
       "      <th>1312</th>\n",
       "      <td>78.48</td>\n",
       "    </tr>\n",
       "    <tr>\n",
       "      <th>962</th>\n",
       "      <td>44.58</td>\n",
       "    </tr>\n",
       "    <tr>\n",
       "      <th>109</th>\n",
       "      <td>79.64</td>\n",
       "    </tr>\n",
       "    <tr>\n",
       "      <th>1558</th>\n",
       "      <td>93.28</td>\n",
       "    </tr>\n",
       "    <tr>\n",
       "      <th>...</th>\n",
       "      <td>...</td>\n",
       "    </tr>\n",
       "    <tr>\n",
       "      <th>362</th>\n",
       "      <td>76.34</td>\n",
       "    </tr>\n",
       "    <tr>\n",
       "      <th>1803</th>\n",
       "      <td>67.06</td>\n",
       "    </tr>\n",
       "    <tr>\n",
       "      <th>1390</th>\n",
       "      <td>93.28</td>\n",
       "    </tr>\n",
       "    <tr>\n",
       "      <th>1028</th>\n",
       "      <td>77.90</td>\n",
       "    </tr>\n",
       "    <tr>\n",
       "      <th>580</th>\n",
       "      <td>82.94</td>\n",
       "    </tr>\n",
       "  </tbody>\n",
       "</table>\n",
       "<p>398 rows × 1 columns</p>\n",
       "</div>"
      ],
      "text/plain": [
       "        wqi\n",
       "1294  37.44\n",
       "1312  78.48\n",
       "962   44.58\n",
       "109   79.64\n",
       "1558  93.28\n",
       "...     ...\n",
       "362   76.34\n",
       "1803  67.06\n",
       "1390  93.28\n",
       "1028  77.90\n",
       "580   82.94\n",
       "\n",
       "[398 rows x 1 columns]"
      ]
     },
     "execution_count": 43,
     "metadata": {},
     "output_type": "execute_result"
    }
   ],
   "source": [
    "y_test"
   ]
  },
  {
   "cell_type": "code",
   "execution_count": 44,
   "metadata": {},
   "outputs": [],
   "source": [
    "from sklearn.metrics import r2_score"
   ]
  },
  {
   "cell_type": "code",
   "execution_count": 45,
   "metadata": {},
   "outputs": [
    {
     "data": {
      "text/plain": [
       "0.5589655922436569"
      ]
     },
     "execution_count": 45,
     "metadata": {},
     "output_type": "execute_result"
    }
   ],
   "source": [
    "r2_score(y_test,y_predict)"
   ]
  },
  {
   "cell_type": "code",
   "execution_count": 46,
   "metadata": {},
   "outputs": [
    {
     "data": {
      "text/plain": [
       "<matplotlib.collections.PathCollection at 0x13b8c9104f0>"
      ]
     },
     "execution_count": 46,
     "metadata": {},
     "output_type": "execute_result"
    },
    {
     "data": {
      "image/png": "[encoded data removed]",
      "text/plain": [
       "<Figure size 432x288 with 1 Axes>"
      ]
     },
     "metadata": {
      "needs_background": "light"
     },
     "output_type": "display_data"
    }
   ],
   "source": [
    "plt.scatter(y_predict,y_test)"
   ]
  },
  {
   "cell_type": "code",
   "execution_count": 47,
   "metadata": {},
   "outputs": [
    {
     "name": "stdout",
     "output_type": "stream",
     "text": [
      "mse:81.31\n"
     ]
    }
   ],
   "source": [
    "from sklearn.metrics import mean_squared_error\n",
    "print('mse:%.2f'%mean_squared_error(y_predict,y_test))"
   ]
  },
  {
   "cell_type": "code",
   "execution_count": 48,
   "metadata": {},
   "outputs": [],
   "source": [
    "from sklearn.ensemble import RandomForestRegressor"
   ]
  },
  {
   "cell_type": "code",
   "execution_count": 49,
   "metadata": {},
   "outputs": [
    {
     "name": "stderr",
     "output_type": "stream",
     "text": [
      "<ipython-input-49-3c267a1a3460>:2: DataConversionWarning: A column-vector y was passed when a 1d array was expected. Please change the shape of y to (n_samples,), for example using ravel().\n",
      "  rf.fit(x_train,y_train)\n"
     ]
    },
    {
     "data": {
      "text/plain": [
       "RandomForestRegressor(n_estimators=10, n_jobs=-1, random_state=0)"
      ]
     },
     "execution_count": 49,
     "metadata": {},
     "output_type": "execute_result"
    }
   ],
   "source": [
    "rf=RandomForestRegressor(n_estimators=10,random_state=0,n_jobs=-1)\n",
    "rf.fit(x_train,y_train)"
   ]
  },
  {
   "cell_type": "code",
   "execution_count": 50,
   "metadata": {},
   "outputs": [],
   "source": [
    "import pickle\n",
    "pickle.dump(rf,open('random.pkl','wb'))"
   ]
  },
  {
   "cell_type": "code",
   "execution_count": 51,
   "metadata": {},
   "outputs": [
    {
     "data": {
      "text/plain": [
       "array([43.48 , 76.58 , 43.228, 79.64 , 92.718, 90.258, 66.44 , 88.38 ,\n",
       "       82.4  , 59.166, 79.46 , 55.82 , 53.75 , 73.022, 75.924, 55.82 ,\n",
       "       71.178, 44.178, 88.614, 71.34 , 87.66 , 88.38 , 88.2  , 75.524,\n",
       "       79.64 , 91.174, 85.188, 82.58 , 46.148, 82.04 , 77.9  , 63.824,\n",
       "       76.42 , 82.842, 63.59 , 88.02 , 83.7  , 85.098, 65.248, 77.986,\n",
       "       88.834, 67.906, 82.04 , 67.062, 87.768, 55.82 , 66.114, 55.82 ,\n",
       "       90.376, 70.076, 82.94 , 76.142, 82.94 , 83.7  , 94.18 , 50.26 ,\n",
       "       83.7  , 82.76 , 77.554, 61.44 , 93.28 , 82.364, 77.158, 94.18 ,\n",
       "       91.176, 83.7  , 64.992, 66.44 , 56.756, 86.796, 82.58 , 82.4  ,\n",
       "       85.26 , 78.08 , 77.864, 78.012, 50.308, 72.38 , 69.762, 66.35 ,\n",
       "       76.214, 77.302, 85.26 , 82.418, 43.564, 70.768, 66.44 , 94.   ,\n",
       "       82.94 , 75.548, 88.708, 93.82 , 77.436, 76.034, 72.68 , 83.7  ,\n",
       "       73.278, 82.04 , 60.532, 88.38 , 82.4  , 88.2  , 87.66 , 58.576,\n",
       "       50.2  , 80.814, 81.924, 87.66 , 88.02 , 78.966, 53.4  , 82.98 ,\n",
       "       59.38 , 60.548, 75.832, 45.79 , 93.28 , 66.848, 60.218, 82.04 ,\n",
       "       66.12 , 76.42 , 82.76 , 81.708, 37.974, 72.06 , 82.76 , 80.476,\n",
       "       82.94 , 83.466, 47.532, 78.516, 83.628, 78.66 , 82.94 , 82.98 ,\n",
       "       83.7  , 93.82 , 65.99 , 44.342, 67.426, 74.24 , 88.524, 77.9  ,\n",
       "       81.744, 79.64 , 83.502, 79.64 , 88.38 , 82.76 , 94.18 , 82.652,\n",
       "       89.266, 88.762, 88.38 , 88.56 , 77.23 , 82.94 , 79.64 , 88.542,\n",
       "       39.552, 79.894, 72.06 , 73.644, 93.64 , 83.7  , 82.04 , 82.04 ,\n",
       "       87.984, 82.94 , 78.66 , 65.598, 94.18 , 83.29 , 62.076, 82.94 ,\n",
       "       72.716, 72.86 , 55.82 , 71.118, 77.104, 61.8  , 81.756, 61.836,\n",
       "       79.64 , 55.82 , 80.966, 41.036, 79.46 , 59.6  , 83.7  , 79.64 ,\n",
       "       87.962, 57.522, 78.794, 88.38 , 66.44 , 82.04 , 82.98 , 88.38 ,\n",
       "       50.2  , 87.66 , 82.94 , 88.56 , 88.56 , 50.166, 88.2  , 88.2  ,\n",
       "       66.082, 77.9  , 72.858, 94.18 , 93.802, 85.188, 65.036, 88.308,\n",
       "       83.7  , 70.784, 66.44 , 78.794, 82.94 , 70.8  , 55.624, 76.322,\n",
       "       82.76 , 67.21 , 59.67 , 72.932, 69.252, 75.128, 88.2  , 87.66 ,\n",
       "       84.298, 57.96 , 82.04 , 88.38 , 69.252, 79.496, 83.196, 86.53 ,\n",
       "       67.792, 82.652, 78.606, 78.044, 55.82 , 71.016, 66.372, 55.82 ,\n",
       "       50.2  , 87.66 , 73.604, 78.66 , 88.38 , 93.82 , 88.38 , 87.66 ,\n",
       "       74.148, 87.962, 82.4  , 82.58 , 82.94 , 33.412, 86.01 , 82.94 ,\n",
       "       87.66 , 79.64 , 87.912, 70.8  , 88.38 , 88.56 , 72.932, 99.548,\n",
       "       45.66 , 50.308, 60.172, 33.04 , 81.638, 80.04 , 61.44 , 63.352,\n",
       "       78.794, 61.44 , 82.04 , 43.074, 88.38 , 76.892, 41.214, 89.338,\n",
       "       82.76 , 61.44 , 82.94 , 94.18 , 78.08 , 48.25 , 50.2  , 50.2  ,\n",
       "       84.36 , 70.796, 75.032, 87.66 , 60.878, 94.18 , 79.46 , 88.38 ,\n",
       "       84.36 , 88.56 , 94.18 , 67.934, 76.048, 76.346, 88.38 , 61.44 ,\n",
       "       82.94 , 32.224, 88.56 , 76.618, 82.98 , 68.952, 66.12 , 58.836,\n",
       "       77.754, 88.618, 82.94 , 55.82 , 73.022, 50.2  , 61.44 , 82.94 ,\n",
       "       82.04 , 79.46 , 80.718, 87.66 , 72.914, 66.966, 82.94 , 71.88 ,\n",
       "       71.412, 88.222, 88.2  , 82.98 , 88.56 , 94.18 , 63.93 , 73.04 ,\n",
       "       77.158, 70.644, 88.668, 89.338, 93.28 , 71.124, 81.172, 88.56 ,\n",
       "       78.794, 76.16 , 78.99 , 73.138, 72.06 , 88.38 , 76.912, 94.   ,\n",
       "       65.064, 48.592, 63.172, 85.08 , 82.94 , 66.44 , 72.356, 77.414,\n",
       "       94.4  , 82.76 , 64.896, 87.66 , 68.468, 88.38 , 61.44 , 50.524,\n",
       "       82.04 , 61.44 , 76.64 , 94.828, 92.718, 88.38 , 88.454, 75.836,\n",
       "       88.942, 94.18 , 68.746, 82.98 , 87.88 , 76.34 , 83.7  , 72.006,\n",
       "       79.64 , 74.832, 68.366, 93.28 , 77.9  , 82.94 ])"
      ]
     },
     "execution_count": 51,
     "metadata": {},
     "output_type": "execute_result"
    }
   ],
   "source": [
    "y_pred=rf.predict(x_test)\n",
    "y_pred"
   ]
  },
  {
   "cell_type": "code",
   "execution_count": 52,
   "metadata": {},
   "outputs": [
    {
     "data": {
      "text/html": [
       "<div>\n",
       "<style scoped>\n",
       "    .dataframe tbody tr th:only-of-type {\n",
       "        vertical-align: middle;\n",
       "    }\n",
       "\n",
       "    .dataframe tbody tr th {\n",
       "        vertical-align: top;\n",
       "    }\n",
       "\n",
       "    .dataframe thead th {\n",
       "        text-align: right;\n",
       "    }\n",
       "</style>\n",
       "<table border=\"1\" class=\"dataframe\">\n",
       "  <thead>\n",
       "    <tr style=\"text-align: right;\">\n",
       "      <th></th>\n",
       "      <th>wqi</th>\n",
       "    </tr>\n",
       "  </thead>\n",
       "  <tbody>\n",
       "    <tr>\n",
       "      <th>1294</th>\n",
       "      <td>37.44</td>\n",
       "    </tr>\n",
       "    <tr>\n",
       "      <th>1312</th>\n",
       "      <td>78.48</td>\n",
       "    </tr>\n",
       "    <tr>\n",
       "      <th>962</th>\n",
       "      <td>44.58</td>\n",
       "    </tr>\n",
       "    <tr>\n",
       "      <th>109</th>\n",
       "      <td>79.64</td>\n",
       "    </tr>\n",
       "    <tr>\n",
       "      <th>1558</th>\n",
       "      <td>93.28</td>\n",
       "    </tr>\n",
       "    <tr>\n",
       "      <th>...</th>\n",
       "      <td>...</td>\n",
       "    </tr>\n",
       "    <tr>\n",
       "      <th>362</th>\n",
       "      <td>76.34</td>\n",
       "    </tr>\n",
       "    <tr>\n",
       "      <th>1803</th>\n",
       "      <td>67.06</td>\n",
       "    </tr>\n",
       "    <tr>\n",
       "      <th>1390</th>\n",
       "      <td>93.28</td>\n",
       "    </tr>\n",
       "    <tr>\n",
       "      <th>1028</th>\n",
       "      <td>77.90</td>\n",
       "    </tr>\n",
       "    <tr>\n",
       "      <th>580</th>\n",
       "      <td>82.94</td>\n",
       "    </tr>\n",
       "  </tbody>\n",
       "</table>\n",
       "<p>398 rows × 1 columns</p>\n",
       "</div>"
      ],
      "text/plain": [
       "        wqi\n",
       "1294  37.44\n",
       "1312  78.48\n",
       "962   44.58\n",
       "109   79.64\n",
       "1558  93.28\n",
       "...     ...\n",
       "362   76.34\n",
       "1803  67.06\n",
       "1390  93.28\n",
       "1028  77.90\n",
       "580   82.94\n",
       "\n",
       "[398 rows x 1 columns]"
      ]
     },
     "execution_count": 52,
     "metadata": {},
     "output_type": "execute_result"
    }
   ],
   "source": [
    "y_test"
   ]
  },
  {
   "cell_type": "code",
   "execution_count": 53,
   "metadata": {},
   "outputs": [
    {
     "data": {
      "text/plain": [
       "<matplotlib.collections.PathCollection at 0x13b8da6b0d0>"
      ]
     },
     "execution_count": 53,
     "metadata": {},
     "output_type": "execute_result"
    },
    {
     "data": {
      "image/png": "[encoded data removed]",
      "text/plain": [
       "<Figure size 432x288 with 1 Axes>"
      ]
     },
     "metadata": {
      "needs_background": "light"
     },
     "output_type": "display_data"
    }
   ],
   "source": [
    "plt.scatter(y_pred,y_test)"
   ]
  },
  {
   "cell_type": "markdown",
   "metadata": {},
   "source": [
    "# Accuracy"
   ]
  },
  {
   "cell_type": "code",
   "execution_count": 54,
   "metadata": {},
   "outputs": [
    {
     "data": {
      "text/plain": [
       "0.9803465011279101"
      ]
     },
     "execution_count": 54,
     "metadata": {},
     "output_type": "execute_result"
    }
   ],
   "source": [
    "r2_score(y_test,y_pred)"
   ]
  },
  {
   "cell_type": "code",
   "execution_count": 55,
   "metadata": {},
   "outputs": [
    {
     "name": "stdout",
     "output_type": "stream",
     "text": [
      "mse:3.62\n"
     ]
    }
   ],
   "source": [
    "from sklearn.metrics import mean_squared_error\n",
    "print('mse:%.2f'%mean_squared_error(y_pred,y_test))"
   ]
  },
  {
   "cell_type": "code",
   "execution_count": 56,
   "metadata": {},
   "outputs": [
    {
     "data": {
      "text/plain": [
       "array([79.334])"
      ]
     },
     "execution_count": 56,
     "metadata": {},
     "output_type": "execute_result"
    }
   ],
   "source": [
    "rf.predict([[6.3,6.9,179,1.7,0.1,5330.0]])"
   ]
  },
  {
   "cell_type": "code",
   "execution_count": 59,
   "metadata": {},
   "outputs": [
    {
     "name": "stdout",
     "output_type": "stream",
     "text": [
      "Note: you may need to restart the kernel to use updated packages.\n"
     ]
    },
    {
     "name": "stderr",
     "output_type": "stream",
     "text": [
      "'C:\\Users\\Rishika' is not recognized as an internal or external command,\n",
      "operable program or batch file.\n"
     ]
    }
   ],
   "source": [
    "pip install -U scikit-learn==0.21.3"
   ]
  },
  {
   "cell_type": "code",
   "execution_count": null,
   "metadata": {},
   "outputs": [],
   "source": [
    "import numpy as np\n",
    "from flask import Flask, request, render_template\n",
    "import pickle\n",
    "model = pickle.load(open('random.pkl','rb'))\n",
    "\n",
    "\n",
    "app = Flask(__name__)\n",
    "\n",
    "@app.route('/')\n",
    "def home():\n",
    "    return render_template('index.html')\n",
    "\n",
    "@app.route('/predict',methods=['POST'])\n",
    "def predict():\n",
    "\n",
    "    float_features = []\n",
    "    float_features.append(float(request.form['do']))\n",
    "    float_features.append(float(request.form['ph']))\n",
    "    float_features.append(float(request.form['co']))\n",
    "    float_features.append(float(request.form['bod']))\n",
    "    float_features.append(float(request.form['na']))\n",
    "    float_features.append(float(request.form['tc']))\n",
    "    final_features = [np.array(float_features)]\n",
    "    prediction = model.predict(final_features)\n",
    "\n",
    "    output = np.round_(prediction[[0]], 2)\n",
    "\n",
    "    return render_template('index.html', wqi=output[0])\n",
    "\n",
    "if __name__ == \"__main__\":\n",
    "    app.run(debug=False)"
   ]
  },
  {
   "cell_type": "code",
   "execution_count": null,
   "metadata": {},
   "outputs": [],
   "source": []
  },
  {
   "cell_type": "code",
   "execution_count": null,
   "metadata": {},
   "outputs": [],
   "source": []
  }
 ],
 "metadata": {
  "kernelspec": {
   "display_name": "Python 3",
   "language": "python",
   "name": "python3"
  },
  "language_info": {
   "codemirror_mode": {
    "name": "ipython",
    "version": 3
   },
   "file_extension": ".py",
   "mimetype": "text/x-python",
   "name": "python",
   "nbconvert_exporter": "python",
   "pygments_lexer": "ipython3",
   "version": "3.8.8"
  }
 },
 "nbformat": 4,
 "nbformat_minor": 1
}
